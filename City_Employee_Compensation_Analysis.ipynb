{
 "cells": [
  {
   "cell_type": "code",
   "execution_count": 3,
   "metadata": {},
   "outputs": [],
   "source": [
    "import pandas as pd\n",
    "import numpy as np\n",
    "import seaborn as sns\n",
    "import matplotlib.pyplot as plt\n",
    "%matplotlib inline\n",
    "\n",
    "from statsmodels.formula.api import ols\n",
    "from sklearn.preprocessing import StandardScaler\n",
    "from sklearn.linear_model import Lasso, Ridge, LinearRegression\n",
    "from sklearn.model_selection import train_test_split\n",
    "from sklearn.model_selection import cross_val_score\n",
    "from sklearn import metrics\n",
    "import scipy as sp\n"
   ]
  },
  {
   "cell_type": "code",
   "execution_count": 2,
   "metadata": {
    "scrolled": true
   },
   "outputs": [
    {
     "name": "stderr",
     "output_type": "stream",
     "text": [
      "/Users/michaelarmistead/opt/anaconda3/lib/python3.7/site-packages/IPython/core/interactiveshell.py:3058: DtypeWarning: Columns (7) have mixed types. Specify dtype option on import or set low_memory=False.\n",
      "  interactivity=interactivity, compiler=compiler, result=result)\n"
     ]
    },
    {
     "data": {
      "text/html": [
       "<div>\n",
       "<style scoped>\n",
       "    .dataframe tbody tr th:only-of-type {\n",
       "        vertical-align: middle;\n",
       "    }\n",
       "\n",
       "    .dataframe tbody tr th {\n",
       "        vertical-align: top;\n",
       "    }\n",
       "\n",
       "    .dataframe thead th {\n",
       "        text-align: right;\n",
       "    }\n",
       "</style>\n",
       "<table border=\"1\" class=\"dataframe\">\n",
       "  <thead>\n",
       "    <tr style=\"text-align: right;\">\n",
       "      <th></th>\n",
       "      <th>Fiscal Year</th>\n",
       "      <th>Payroll Number</th>\n",
       "      <th>Agency Name</th>\n",
       "      <th>Last Name</th>\n",
       "      <th>First Name</th>\n",
       "      <th>Mid Init</th>\n",
       "      <th>Agency Start Date</th>\n",
       "      <th>Work Location Borough</th>\n",
       "      <th>Title Description</th>\n",
       "      <th>Leave Status as of June 30</th>\n",
       "      <th>Base Salary</th>\n",
       "      <th>Pay Basis</th>\n",
       "      <th>Regular Hours</th>\n",
       "      <th>Regular Gross Paid</th>\n",
       "      <th>OT Hours</th>\n",
       "      <th>Total OT Paid</th>\n",
       "      <th>Total Other Pay</th>\n",
       "    </tr>\n",
       "  </thead>\n",
       "  <tbody>\n",
       "    <tr>\n",
       "      <td>0</td>\n",
       "      <td>2016</td>\n",
       "      <td>NaN</td>\n",
       "      <td>DISTRICT ATTORNEY-MANHATTAN</td>\n",
       "      <td>ABA'AHMID</td>\n",
       "      <td>RAHASHEEM</td>\n",
       "      <td>E</td>\n",
       "      <td>07/14/2003</td>\n",
       "      <td>MANHATTAN</td>\n",
       "      <td>COMMUNITY ASSOCIATE</td>\n",
       "      <td>ACTIVE</td>\n",
       "      <td>47678.0</td>\n",
       "      <td>per Annum</td>\n",
       "      <td>1830.00</td>\n",
       "      <td>47166.03</td>\n",
       "      <td>2.25</td>\n",
       "      <td>57.28</td>\n",
       "      <td>0.0</td>\n",
       "    </tr>\n",
       "    <tr>\n",
       "      <td>1</td>\n",
       "      <td>2016</td>\n",
       "      <td>NaN</td>\n",
       "      <td>DISTRICT ATTORNEY-MANHATTAN</td>\n",
       "      <td>ABENSUR</td>\n",
       "      <td>MARGARET</td>\n",
       "      <td>NaN</td>\n",
       "      <td>06/12/1995</td>\n",
       "      <td>MANHATTAN</td>\n",
       "      <td>ADMINISTRATIVE ACCOUNTANT</td>\n",
       "      <td>ACTIVE</td>\n",
       "      <td>119959.0</td>\n",
       "      <td>per Annum</td>\n",
       "      <td>1831.00</td>\n",
       "      <td>119042.50</td>\n",
       "      <td>0.00</td>\n",
       "      <td>0.00</td>\n",
       "      <td>0.0</td>\n",
       "    </tr>\n",
       "    <tr>\n",
       "      <td>2</td>\n",
       "      <td>2016</td>\n",
       "      <td>NaN</td>\n",
       "      <td>DISTRICT ATTORNEY-MANHATTAN</td>\n",
       "      <td>ABOUNAOUM</td>\n",
       "      <td>ANDREA</td>\n",
       "      <td>L</td>\n",
       "      <td>10/11/2011</td>\n",
       "      <td>MANHATTAN</td>\n",
       "      <td>COMMUNITY ASSOCIATE</td>\n",
       "      <td>ON LEAVE</td>\n",
       "      <td>39966.0</td>\n",
       "      <td>per Annum</td>\n",
       "      <td>1181.68</td>\n",
       "      <td>27452.62</td>\n",
       "      <td>1.00</td>\n",
       "      <td>21.34</td>\n",
       "      <td>33.0</td>\n",
       "    </tr>\n",
       "    <tr>\n",
       "      <td>3</td>\n",
       "      <td>2016</td>\n",
       "      <td>NaN</td>\n",
       "      <td>DISTRICT ATTORNEY-MANHATTAN</td>\n",
       "      <td>ABRAHAM</td>\n",
       "      <td>JONATHAN</td>\n",
       "      <td>J</td>\n",
       "      <td>12/01/2014</td>\n",
       "      <td>MANHATTAN</td>\n",
       "      <td>COMPUTER SYSTEMS MANAGER</td>\n",
       "      <td>ACTIVE</td>\n",
       "      <td>116000.0</td>\n",
       "      <td>per Annum</td>\n",
       "      <td>1831.00</td>\n",
       "      <td>115104.57</td>\n",
       "      <td>0.00</td>\n",
       "      <td>0.00</td>\n",
       "      <td>0.0</td>\n",
       "    </tr>\n",
       "    <tr>\n",
       "      <td>4</td>\n",
       "      <td>2016</td>\n",
       "      <td>NaN</td>\n",
       "      <td>DISTRICT ATTORNEY-MANHATTAN</td>\n",
       "      <td>ABRAMS</td>\n",
       "      <td>JOSEPH</td>\n",
       "      <td>NaN</td>\n",
       "      <td>05/21/2015</td>\n",
       "      <td>MANHATTAN</td>\n",
       "      <td>COLLEGE AIDE</td>\n",
       "      <td>CEASED</td>\n",
       "      <td>1.0</td>\n",
       "      <td>per Hour</td>\n",
       "      <td>0.00</td>\n",
       "      <td>3500.00</td>\n",
       "      <td>0.00</td>\n",
       "      <td>0.00</td>\n",
       "      <td>0.0</td>\n",
       "    </tr>\n",
       "  </tbody>\n",
       "</table>\n",
       "</div>"
      ],
      "text/plain": [
       "   Fiscal Year  Payroll Number                  Agency Name  Last Name  \\\n",
       "0         2016             NaN  DISTRICT ATTORNEY-MANHATTAN  ABA'AHMID   \n",
       "1         2016             NaN  DISTRICT ATTORNEY-MANHATTAN    ABENSUR   \n",
       "2         2016             NaN  DISTRICT ATTORNEY-MANHATTAN  ABOUNAOUM   \n",
       "3         2016             NaN  DISTRICT ATTORNEY-MANHATTAN    ABRAHAM   \n",
       "4         2016             NaN  DISTRICT ATTORNEY-MANHATTAN     ABRAMS   \n",
       "\n",
       "  First Name Mid Init Agency Start Date Work Location Borough  \\\n",
       "0  RAHASHEEM        E        07/14/2003             MANHATTAN   \n",
       "1   MARGARET      NaN        06/12/1995             MANHATTAN   \n",
       "2     ANDREA        L        10/11/2011             MANHATTAN   \n",
       "3   JONATHAN        J        12/01/2014             MANHATTAN   \n",
       "4     JOSEPH      NaN        05/21/2015             MANHATTAN   \n",
       "\n",
       "           Title Description Leave Status as of June 30  Base Salary  \\\n",
       "0        COMMUNITY ASSOCIATE                     ACTIVE      47678.0   \n",
       "1  ADMINISTRATIVE ACCOUNTANT                     ACTIVE     119959.0   \n",
       "2        COMMUNITY ASSOCIATE                   ON LEAVE      39966.0   \n",
       "3   COMPUTER SYSTEMS MANAGER                     ACTIVE     116000.0   \n",
       "4               COLLEGE AIDE                     CEASED          1.0   \n",
       "\n",
       "   Pay Basis  Regular Hours  Regular Gross Paid  OT Hours  Total OT Paid  \\\n",
       "0  per Annum        1830.00            47166.03      2.25          57.28   \n",
       "1  per Annum        1831.00           119042.50      0.00           0.00   \n",
       "2  per Annum        1181.68            27452.62      1.00          21.34   \n",
       "3  per Annum        1831.00           115104.57      0.00           0.00   \n",
       "4   per Hour           0.00             3500.00      0.00           0.00   \n",
       "\n",
       "   Total Other Pay  \n",
       "0              0.0  \n",
       "1              0.0  \n",
       "2             33.0  \n",
       "3              0.0  \n",
       "4              0.0  "
      ]
     },
     "execution_count": 2,
     "metadata": {},
     "output_type": "execute_result"
    }
   ],
   "source": [
    "df = pd.read_csv('Citywide_Payroll_Data__Fiscal_Year_.csv')\n",
    "df.head()"
   ]
  },
  {
   "cell_type": "markdown",
   "metadata": {},
   "source": [
    "## Data Cleaning/ EDA"
   ]
  },
  {
   "cell_type": "code",
   "execution_count": 4,
   "metadata": {},
   "outputs": [],
   "source": [
    "# Drop columns that won't be used\n",
    "df.drop(columns = ['Payroll Number', 'Last Name', 'First Name', 'Mid Init', 'Regular Gross Paid', 'Total Other Pay', 'Title Description'], inplace = True)"
   ]
  },
  {
   "cell_type": "code",
   "execution_count": 5,
   "metadata": {
    "scrolled": true
   },
   "outputs": [
    {
     "data": {
      "text/plain": [
       "MANHATTAN        1973648\n",
       "QUEENS            314273\n",
       "BROOKLYN          270114\n",
       "BRONX             149190\n",
       "OTHER              71698\n",
       "RICHMOND           38231\n",
       "WESTCHESTER         2813\n",
       "Manhattan           1622\n",
       "ULSTER              1578\n",
       "Bronx                935\n",
       "SULLIVAN             685\n",
       "Queens               660\n",
       "DELAWARE             463\n",
       "PUTNAM               201\n",
       "NASSAU               196\n",
       "SCHOHARIE            145\n",
       "Richmond             112\n",
       "DUTCHESS             109\n",
       "ALBANY                74\n",
       "GREENE                51\n",
       "WASHINGTON DC         38\n",
       "ORANGE                21\n",
       "Name: Work Location Borough, dtype: int64"
      ]
     },
     "execution_count": 5,
     "metadata": {},
     "output_type": "execute_result"
    }
   ],
   "source": [
    "df['Work Location Borough'].value_counts()"
   ]
  },
  {
   "cell_type": "code",
   "execution_count": 95,
   "metadata": {},
   "outputs": [],
   "source": [
    "# clean up work location for 4 main boroughs\n",
    "df.loc[df['Work Location Borough'] =='MANHATTAN', 'Work Location Borough']= 'Manhattan'\n",
    "df.loc[df['Work Location Borough'] =='QUEENS', 'Work Location Borough']= 'Queens'\n",
    "df.loc[df['Work Location Borough'] =='BROOKLYN', 'Work Location Borough']= 'Brooklyn'\n",
    "df.loc[df['Work Location Borough'] =='BRONX', 'Work Location Borough']= 'Bronx'\n"
   ]
  },
  {
   "cell_type": "code",
   "execution_count": 96,
   "metadata": {},
   "outputs": [],
   "source": [
    "# drop worklocations other than 4 main boroughs\n",
    "\n",
    "na_dict= {'OTHER' : np.nan,\n",
    "'RICHMOND' : np.nan,\n",
    "'WESTCHESTER' : np.nan,\n",
    "'ULSTER' : np.nan,\n",
    "'SULLIVAN' : np.nan,\n",
    "'DELAWARE' : np.nan,\n",
    "'PUTNAM' : np.nan,\n",
    "'NASSAU' : np.nan,\n",
    "'SCHOHARIE' : np.nan,\n",
    "'Richmond' : np.nan,\n",
    "'DUTCHESS' : np.nan,\n",
    "'ALBANY' : np.nan,\n",
    "'GREENE' : np.nan,\n",
    "'WASHINGTON DC' : np.nan,\n",
    "'ORANGE' : np.nan }\n",
    "\n",
    "df['Work Location Borough'].replace(na_dict, inplace = True)\n",
    "\n",
    "df.dropna(inplace = True)"
   ]
  },
  {
   "cell_type": "code",
   "execution_count": 111,
   "metadata": {},
   "outputs": [
    {
     "data": {
      "text/plain": [
       "Work Location Borough\n",
       "Bronx        64443.859286\n",
       "Brooklyn     65521.208387\n",
       "Manhattan    72902.577294\n",
       "Queens       68192.155679\n",
       "Name: Base Salary, dtype: float64"
      ]
     },
     "execution_count": 111,
     "metadata": {},
     "output_type": "execute_result"
    }
   ],
   "source": [
    "df.groupby('Work Location Borough')['Base Salary'].mean()"
   ]
  },
  {
   "cell_type": "code",
   "execution_count": 135,
   "metadata": {},
   "outputs": [
    {
     "data": {
      "text/plain": [
       "Text(0.5, 1.0, 'Average Base Salary vs. Work Location')"
      ]
     },
     "execution_count": 135,
     "metadata": {},
     "output_type": "execute_result"
    },
    {
     "data": {
      "image/png": "[encoded data removed]",
      "text/plain": [
       "<Figure size 1080x504 with 1 Axes>"
      ]
     },
     "metadata": {
      "needs_background": "light"
     },
     "output_type": "display_data"
    }
   ],
   "source": [
    "fig, ax = plt.subplots(figsize=(15,7))\n",
    "df.groupby('Work Location Borough')['Base Salary'].mean().plot(kind = 'bar', ax=ax)\n",
    "ax.set_ylabel('Base Salary')\n",
    "ax.set_title('Average Base Salary vs. Work Location')\n"
   ]
  },
  {
   "cell_type": "code",
   "execution_count": 119,
   "metadata": {},
   "outputs": [
    {
     "data": {
      "text/plain": [
       "years_with_city\n",
       "57.0    110893.750000\n",
       "54.0     95342.615385\n",
       "53.0     91456.400000\n",
       "52.0     87857.724138\n",
       "55.0     87447.615385\n",
       "24.0     85691.264780\n",
       "22.0     85547.828340\n",
       "23.0     85480.899678\n",
       "21.0     84351.430370\n",
       "36.0     83769.340934\n",
       "56.0     83504.555556\n",
       "25.0     83416.587429\n",
       "39.0     83391.738878\n",
       "37.0     83360.208249\n",
       "34.0     83056.134294\n",
       "35.0     82920.635988\n",
       "40.0     82910.130058\n",
       "33.0     82782.324351\n",
       "38.0     82713.023077\n",
       "20.0     81902.000881\n",
       "Name: Base Salary, dtype: float64"
      ]
     },
     "execution_count": 119,
     "metadata": {},
     "output_type": "execute_result"
    }
   ],
   "source": [
    "df.groupby('years_with_city')['Base Salary'].mean().nlargest(20)"
   ]
  },
  {
   "cell_type": "code",
   "execution_count": 140,
   "metadata": {
    "scrolled": true
   },
   "outputs": [
    {
     "data": {
      "text/plain": [
       "Text(0.5, 1.0, 'Average Base Salary vs Years Worked for City')"
      ]
     },
     "execution_count": 140,
     "metadata": {},
     "output_type": "execute_result"
    },
    {
     "data": {
      "image/png": "[encoded data removed]",
      "text/plain": [
       "<Figure size 1080x504 with 1 Axes>"
      ]
     },
     "metadata": {
      "needs_background": "light"
     },
     "output_type": "display_data"
    }
   ],
   "source": [
    "fig, ax = plt.subplots(figsize=(15,7))\n",
    "df.groupby('years_with_city')['Base Salary'].mean().plot(ax=ax)\n",
    "ax.set_ylabel('Base Salary')\n",
    "ax.set_xlabel('Years worked for City')\n",
    "ax.set_title('Average Base Salary vs Years Worked for City')\n"
   ]
  },
  {
   "cell_type": "code",
   "execution_count": 125,
   "metadata": {},
   "outputs": [
    {
     "data": {
      "text/plain": [
       "Agency Name\n",
       "OFFICE OF COLLECTIVE BARGAININ    112844.061728\n",
       "FINANCIAL INFO SVCS AGENCY        107143.024292\n",
       "OFFICE OF THE ACTUARY             102629.173684\n",
       "INDEPENDENT BUDGET OFFICE          99621.603550\n",
       "TAX COMMISSION                     98758.714286\n",
       "OFFICE OF THE MAYOR                96970.291128\n",
       "CONFLICTS OF INTEREST BOARD        94616.474138\n",
       "MUNICIPAL WATER FIN AUTHORITY      93822.246154\n",
       "CITY COUNCIL                       91128.392076\n",
       "DISTRICT ATTORNEY-SPECIAL NARC     89288.769912\n",
       "NYC DEPT OF VETERANS' SERVICES     88868.442308\n",
       "NYC FIRE PENSION FUND              88026.772727\n",
       "OFFICE OF MANAGEMENT & BUDGET      86738.662891\n",
       "CAMPAIGN FINANCE BOARD             85617.397380\n",
       "DEPT OF INFO TECH & TELECOMM       85461.000848\n",
       "OFFICE OF EMERGENCY MANAGEMENT     85319.524729\n",
       "OFF OF PAYROLL ADMINISTRATION      84707.220472\n",
       "DEPT OF ED PEDAGOGICAL             84501.307154\n",
       "MAYORS OFFICE OF CONTRACT SVCS     84072.398568\n",
       "OFFICE OF THE COMPTROLLER          83661.971561\n",
       "Name: Base Salary, dtype: float64"
      ]
     },
     "execution_count": 125,
     "metadata": {},
     "output_type": "execute_result"
    }
   ],
   "source": [
    "df.groupby('Agency Name')['Base Salary'].mean().nlargest(20)"
   ]
  },
  {
   "cell_type": "code",
   "execution_count": 141,
   "metadata": {},
   "outputs": [
    {
     "data": {
      "text/plain": [
       "Text(0.5, 1.0, 'Average Base Salary for Top 10 Highest Paying City Agencies')"
      ]
     },
     "execution_count": 141,
     "metadata": {},
     "output_type": "execute_result"
    },
    {
     "data": {
      "image/png": "[encoded data removed]",
      "text/plain": [
       "<Figure size 1080x504 with 1 Axes>"
      ]
     },
     "metadata": {
      "needs_background": "light"
     },
     "output_type": "display_data"
    }
   ],
   "source": [
    "fig, ax = plt.subplots(figsize=(15,7))\n",
    "df.groupby('Agency Name')['Base Salary'].mean().nlargest(10).plot(kind = 'bar', ax=ax)\n",
    "ax.set_ylabel('Base Salary')\n",
    "ax.set_xlabel('Top 10 Agencies with highest average Salary for the City')\n",
    "ax.set_title('Average Base Salary for Top 10 Highest Paying City Agencies')"
   ]
  },
  {
   "cell_type": "code",
   "execution_count": 72,
   "metadata": {},
   "outputs": [],
   "source": [
    "# bx= 1, bk = 2, manhatt= 3, qu = 4\n",
    "df.loc[df['Work Location Borough'] =='Bronx', 'Work Location Borough']= 1\n",
    "df.loc[df['Work Location Borough'] =='Brooklyn', 'Work Location Borough']= 2\n",
    "df.loc[df['Work Location Borough'] =='Manhattan', 'Work Location Borough']= 3\n",
    "df.loc[df['Work Location Borough'] =='Queens', 'Work Location Borough']= 4\n",
    "\n"
   ]
  },
  {
   "cell_type": "code",
   "execution_count": 98,
   "metadata": {},
   "outputs": [],
   "source": [
    "# create start year column to be able to make years_working column\n",
    "df['start_year'] = df['Agency Start Date'].apply(lambda x: int(x[6:]))\n",
    "df['years_with_city'] = df[['Fiscal Year']].sub(df['start_year'], axis=0)"
   ]
  },
  {
   "cell_type": "code",
   "execution_count": 99,
   "metadata": {
    "scrolled": true
   },
   "outputs": [],
   "source": [
    "# Drop 2014 to look at past 5 years\n",
    "df.loc[df['Fiscal Year']==2014, 'Fiscal Year'] = np.nan\n",
    "df.dropna(inplace = True)"
   ]
  },
  {
   "cell_type": "code",
   "execution_count": 100,
   "metadata": {},
   "outputs": [
    {
     "data": {
      "text/plain": [
       "per Annum          1579355\n",
       "per Day             607849\n",
       "per Hour            507035\n",
       "Prorated Annual      12986\n",
       "Name: Pay Basis, dtype: int64"
      ]
     },
     "execution_count": 100,
     "metadata": {},
     "output_type": "execute_result"
    }
   ],
   "source": [
    "df['Pay Basis'].value_counts()"
   ]
  },
  {
   "cell_type": "code",
   "execution_count": 101,
   "metadata": {},
   "outputs": [],
   "source": [
    "# work with per Annum and drop the rest\n",
    "pay_dict = {'per Day': np.nan,\n",
    "           'per Hour': np.nan,\n",
    "            'Prorated Annual': np.nan}\n",
    "\n",
    "df['Pay Basis'].replace(pay_dict, inplace = True)\n",
    "\n",
    "df.dropna(inplace = True)"
   ]
  },
  {
   "cell_type": "code",
   "execution_count": 102,
   "metadata": {},
   "outputs": [],
   "source": [
    "# drop Pay now that we only have per Annu\n",
    "df.drop(columns = 'Pay Basis', inplace = True)"
   ]
  },
  {
   "cell_type": "code",
   "execution_count": 103,
   "metadata": {},
   "outputs": [],
   "source": [
    "# drop people ceased, on leave, seasonal, or on sapartation leave, want only active working employees\n",
    "zero_dict = {'CEASED': np.nan,\n",
    "            'ON LEAVE': np.nan,\n",
    "            'SEASONAL': np.nan,\n",
    "            'ON SEPARATION LEAVE': np.nan}\n",
    "\n",
    "df['Leave Status as of June 30'].replace(zero_dict, inplace = True)\n",
    "\n",
    "df.dropna(inplace = True)"
   ]
  },
  {
   "cell_type": "code",
   "execution_count": 104,
   "metadata": {},
   "outputs": [],
   "source": [
    "# drop column after getting current working employees\n",
    "df.drop(columns = 'Leave Status as of June 30', inplace = True)"
   ]
  },
  {
   "cell_type": "code",
   "execution_count": 105,
   "metadata": {},
   "outputs": [],
   "source": [
    "# error with start date saying they worked negitave years\n",
    "df.loc[df['years_with_city']<0, 'years_with_city'] = np.nan\n",
    "df.dropna(inplace = True)\n"
   ]
  },
  {
   "cell_type": "code",
   "execution_count": 106,
   "metadata": {},
   "outputs": [],
   "source": [
    "# error saying worked more than 100 years\n",
    "df.loc[df['years_with_city']>100, 'years_with_city'] = np.nan\n",
    "df.dropna(inplace = True)"
   ]
  },
  {
   "cell_type": "code",
   "execution_count": 18,
   "metadata": {
    "scrolled": false
   },
   "outputs": [
    {
     "data": {
      "text/plain": [
       "<matplotlib.axes._subplots.AxesSubplot at 0x1a2031a5d0>"
      ]
     },
     "execution_count": 18,
     "metadata": {},
     "output_type": "execute_result"
    },
    {
     "data": {
      "image/png": "[encoded data removed]",
      "text/plain": [
       "<Figure size 432x288 with 1 Axes>"
      ]
     },
     "metadata": {
      "needs_background": "light"
     },
     "output_type": "display_data"
    }
   ],
   "source": [
    "df.plot(kind ='scatter', x= 'years_with_city', y = 'Base Salary' )"
   ]
  },
  {
   "cell_type": "code",
   "execution_count": 107,
   "metadata": {},
   "outputs": [],
   "source": [
    "# drop outliers that are making less than minimum wage\n",
    "df.loc[df['Base Salary']<20000, 'Base Salary']= np.nan\n",
    "df.dropna(inplace = True)"
   ]
  },
  {
   "cell_type": "code",
   "execution_count": 108,
   "metadata": {},
   "outputs": [],
   "source": [
    "# drop one person that was working more 12 hours a day \n",
    "df.loc[df['Regular Hours']>3000, 'Regular Hours']= np.nan\n",
    "df.dropna(inplace = True)"
   ]
  },
  {
   "cell_type": "code",
   "execution_count": 109,
   "metadata": {},
   "outputs": [],
   "source": [
    "# drop columns once we have years worked\n",
    "df.drop(columns = ['start_year', 'Agency Start Date'], inplace = True)"
   ]
  },
  {
   "cell_type": "code",
   "execution_count": 110,
   "metadata": {},
   "outputs": [],
   "source": [
    "# community boards had less that \n",
    "df.loc[df['Agency Name'].str.contains(\"COMMUNITY BOARD\"), 'Agency Name'] = np.nan\n",
    "df.dropna(inplace = True)"
   ]
  },
  {
   "cell_type": "code",
   "execution_count": 86,
   "metadata": {},
   "outputs": [],
   "source": [
    "# create dummy variable for borough worked in \n",
    "borough_dummies = pd.get_dummies(df['Work Location Borough'], prefix='borough', drop_first=True)\n",
    "df.drop(['Work Location Borough'], axis=1, inplace = True)\n",
    "df = pd.concat([df, borough_dummies], axis=1)"
   ]
  },
  {
   "cell_type": "code",
   "execution_count": 87,
   "metadata": {
    "scrolled": false
   },
   "outputs": [],
   "source": [
    "# creat dummy variables of name of agencies\n",
    "agency_dummies = pd.get_dummies(df['Agency Name'], prefix='agency', drop_first=True)\n",
    "df = df.drop(['Agency Name'], axis=1)\n",
    "df = pd.concat([df, agency_dummies], axis=1)"
   ]
  },
  {
   "cell_type": "code",
   "execution_count": 88,
   "metadata": {},
   "outputs": [],
   "source": [
    "# fix columns of dummy variables of agency so it can be read in ols\n",
    "df.columns = [x.replace(' ', '_') for x in df.columns]\n",
    "df.columns = [x.replace('#','') for x in df.columns]\n",
    "df.columns = [x.replace(\"'\", '') for x in df.columns]\n",
    "df.columns = [x.replace('.','') for x in df.columns]\n",
    "df.columns = [x.replace('(','') for x in df.columns]\n",
    "df.columns = [x.replace(')','') for x in df.columns]\n",
    "df.columns = [x.replace('&','_') for x in df.columns]\n",
    "df.columns = [x.replace('-','_') for x in df.columns]\n",
    "df.columns = [x.replace('/','_') for x in df.columns]"
   ]
  },
  {
   "cell_type": "code",
   "execution_count": 89,
   "metadata": {},
   "outputs": [
    {
     "data": {
      "text/plain": [
       "(1377321, 94)"
      ]
     },
     "execution_count": 89,
     "metadata": {},
     "output_type": "execute_result"
    }
   ],
   "source": [
    "df.shape"
   ]
  },
  {
   "cell_type": "code",
   "execution_count": 90,
   "metadata": {
    "scrolled": false
   },
   "outputs": [
    {
     "data": {
      "text/plain": [
       "Fiscal_Year\n",
       "2015.0    65996.093331\n",
       "2016.0    67788.824456\n",
       "2017.0    70518.170776\n",
       "2018.0    72872.302252\n",
       "2019.0    75058.959833\n",
       "Name: Base_Salary, dtype: float64"
      ]
     },
     "execution_count": 90,
     "metadata": {},
     "output_type": "execute_result"
    }
   ],
   "source": [
    "df.groupby('Fiscal_Year')['Base_Salary'].mean()"
   ]
  },
  {
   "cell_type": "markdown",
   "metadata": {
    "scrolled": false
   },
   "source": [
    "## Feature Selection"
   ]
  },
  {
   "cell_type": "code",
   "execution_count": 27,
   "metadata": {},
   "outputs": [],
   "source": [
    "def listToString(s):  \n",
    "    \n",
    "    # initialize an empty string \n",
    "    str1 = \" \" \n",
    "    \n",
    "    # return string   \n",
    "    return (str1.join(s)) "
   ]
  },
  {
   "cell_type": "code",
   "execution_count": 28,
   "metadata": {},
   "outputs": [
    {
     "data": {
      "text/plain": [
       "'Base_Salary ~ Fiscal_Year + Regular_Hours + OT_Hours + Total_OT_Paid + years_with_city + borough_2 + borough_3 + borough_4 + agency_ADMIN_TRIALS_AND_HEARINGS + agency_BOARD_OF_CORRECTION + agency_BOARD_OF_ELECTION + agency_BOROUGH_PRESIDENT_BRONX + agency_BOROUGH_PRESIDENT_BROOKLYN + agency_BOROUGH_PRESIDENT_QUEENS + agency_BRONX_DISTRICT_ATTORNEY + agency_BUSINESS_INTEGRITY_COMMISSION + agency_CAMPAIGN_FINANCE_BOARD + agency_CITY_CLERK + agency_CITY_COUNCIL + agency_CIVIL_SERVICE_COMMISSION + agency_CIVILIAN_COMPLAINT_REVIEW_BD + agency_COMMUNITY_COLLEGE_BRONX + agency_COMMUNITY_COLLEGE_HOSTOS + agency_COMMUNITY_COLLEGE_KINGSBORO + agency_COMMUNITY_COLLEGE_LAGUARDIA + agency_COMMUNITY_COLLEGE_MANHATTAN + agency_COMMUNITY_COLLEGE_QUEENSBORO + agency_CONFLICTS_OF_INTEREST_BOARD + agency_CONSUMER_AFFAIRS + agency_CULTURAL_AFFAIRS + agency_CUNY_CENTRAL_OFFICE + agency_DEPARTMENT_FOR_THE_AGING + agency_DEPARTMENT_OF_BUILDINGS + agency_DEPARTMENT_OF_BUSINESS_SERV + agency_DEPARTMENT_OF_CITY_PLANNING + agency_DEPARTMENT_OF_CORRECTION + agency_DEPARTMENT_OF_EDUCATION_ADMIN + agency_DEPARTMENT_OF_FINANCE + agency_DEPARTMENT_OF_INVESTIGATION + agency_DEPARTMENT_OF_PROBATION + agency_DEPARTMENT_OF_SANITATION + agency_DEPARTMENT_OF_TRANSPORTATION + agency_DEPT_OF_CITYWIDE_ADMIN_SVCS + agency_DEPT_OF_ED_PARA_PROFESSIONALS + agency_DEPT_OF_ED_PEDAGOGICAL + agency_DEPT_OF_ENVIRONMENT_PROTECTION + agency_DEPT_OF_HEALTH_MENTAL_HYGIENE + agency_DEPT_OF_INFO_TECH___TELECOMM + agency_DEPT_OF_PARKS___RECREATION + agency_DEPT_OF_RECORDS___INFO_SERVICE + agency_DEPT_OF_YOUTH___COMM_DEV_SRVS + agency_DEPT_OF_DESIGN___CONSTRUCTION + agency_DEPT_OF_HOMELESS_SERVICES + agency_DISTRICT_ATTORNEY_KINGS_COUNTY + agency_DISTRICT_ATTORNEY_QNS_COUNTY + agency_DISTRICT_ATTORNEY_MANHATTAN + agency_DISTRICT_ATTORNEY_SPECIAL_NARC + agency_EQUAL_EMPLOY_PRACTICES_COMM + agency_FINANCIAL_INFO_SVCS_AGENCY + agency_FIRE_DEPARTMENT + agency_GUTTMAN_COMMUNITY_COLLEGE + agency_HOUSING_PRESERVATION___DVLPMNT + agency_HRA_DEPT_OF_SOCIAL_SERVICES + agency_HUMAN_RIGHTS_COMMISSION + agency_HUNTER_COLLEGE_HIGH_SCHOOL + agency_INDEPENDENT_BUDGET_OFFICE + agency_LANDMARKS_PRESERVATION_COMM + agency_LAW_DEPARTMENT + agency_MAYORS_OFFICE_OF_CONTRACT_SVCS + agency_MUNICIPAL_WATER_FIN_AUTHORITY + agency_NYC_DEPT_OF_VETERANS_SERVICES + agency_NYC_EMPLOYEES_RETIREMENT_SYS + agency_NYC_FIRE_PENSION_FUND + agency_NYC_HOUSING_AUTHORITY + agency_NYC_POLICE_PENSION_FUND + agency_OFF_OF_PAYROLL_ADMINISTRATION + agency_OFFICE_OF_COLLECTIVE_BARGAININ + agency_OFFICE_OF_EMERGENCY_MANAGEMENT + agency_OFFICE_OF_LABOR_RELATIONS + agency_OFFICE_OF_MANAGEMENT___BUDGET + agency_OFFICE_OF_THE_ACTUARY + agency_OFFICE_OF_THE_COMPTROLLER + agency_OFFICE_OF_THE_MAYOR + agency_POLICE_DEPARTMENT + agency_PRESIDENT_BOROUGH_OF_MANHATTAN + agency_PUBLIC_ADMINISTRATOR_BRONX + agency_PUBLIC_ADMINISTRATOR_KINGS + agency_PUBLIC_ADMINISTRATOR_NEW_YORK + agency_PUBLIC_ADMINISTRATOR_QUEENS + agency_PUBLIC_ADVOCATE + agency_TAX_COMMISSION + agency_TAXI___LIMOUSINE_COMMISSION + agency_TEACHERS_RETIREMENT_SYSTEM'"
      ]
     },
     "execution_count": 28,
     "metadata": {},
     "output_type": "execute_result"
    }
   ],
   "source": [
    "# creat a clean features columnms\n",
    "features = list(df.columns)\n",
    "features.remove('Base_Salary')\n",
    "\n",
    "new_feature = listToString(features)\n",
    "\n",
    "new_features = new_feature.replace(' ', ' + ')\n",
    "\n",
    "features2 = 'Base_Salary ~ ' + new_features\n",
    "features2"
   ]
  },
  {
   "cell_type": "code",
   "execution_count": 29,
   "metadata": {},
   "outputs": [
    {
     "data": {
      "text/html": [
       "<table class=\"simpletable\">\n",
       "<caption>OLS Regression Results</caption>\n",
       "<tr>\n",
       "  <th>Dep. Variable:</th>       <td>Base_Salary</td>   <th>  R-squared:         </th>  <td>   0.500</td>  \n",
       "</tr>\n",
       "<tr>\n",
       "  <th>Model:</th>                   <td>OLS</td>       <th>  Adj. R-squared:    </th>  <td>   0.500</td>  \n",
       "</tr>\n",
       "<tr>\n",
       "  <th>Method:</th>             <td>Least Squares</td>  <th>  F-statistic:       </th>  <td>1.482e+04</td> \n",
       "</tr>\n",
       "<tr>\n",
       "  <th>Date:</th>             <td>Tue, 25 Feb 2020</td> <th>  Prob (F-statistic):</th>   <td>  0.00</td>   \n",
       "</tr>\n",
       "<tr>\n",
       "  <th>Time:</th>                 <td>15:50:05</td>     <th>  Log-Likelihood:    </th> <td>-1.5572e+07</td>\n",
       "</tr>\n",
       "<tr>\n",
       "  <th>No. Observations:</th>      <td>1377321</td>     <th>  AIC:               </th>  <td>3.114e+07</td> \n",
       "</tr>\n",
       "<tr>\n",
       "  <th>Df Residuals:</th>          <td>1377227</td>     <th>  BIC:               </th>  <td>3.115e+07</td> \n",
       "</tr>\n",
       "<tr>\n",
       "  <th>Df Model:</th>              <td>    93</td>      <th>                     </th>      <td> </td>     \n",
       "</tr>\n",
       "<tr>\n",
       "  <th>Covariance Type:</th>      <td>nonrobust</td>    <th>                     </th>      <td> </td>     \n",
       "</tr>\n",
       "</table>\n",
       "<table class=\"simpletable\">\n",
       "<tr>\n",
       "                    <td></td>                       <th>coef</th>     <th>std err</th>      <th>t</th>      <th>P>|t|</th>  <th>[0.025</th>    <th>0.975]</th>  \n",
       "</tr>\n",
       "<tr>\n",
       "  <th>Intercept</th>                             <td> -4.13e+06</td> <td> 2.41e+04</td> <td> -171.570</td> <td> 0.000</td> <td>-4.18e+06</td> <td>-4.08e+06</td>\n",
       "</tr>\n",
       "<tr>\n",
       "  <th>Fiscal_Year</th>                           <td> 2071.4769</td> <td>   11.932</td> <td>  173.613</td> <td> 0.000</td> <td> 2048.091</td> <td> 2094.862</td>\n",
       "</tr>\n",
       "<tr>\n",
       "  <th>Regular_Hours</th>                         <td>    4.5330</td> <td>    0.065</td> <td>   69.840</td> <td> 0.000</td> <td>    4.406</td> <td>    4.660</td>\n",
       "</tr>\n",
       "<tr>\n",
       "  <th>OT_Hours</th>                              <td> -110.9197</td> <td>    0.247</td> <td> -448.426</td> <td> 0.000</td> <td> -111.405</td> <td> -110.435</td>\n",
       "</tr>\n",
       "<tr>\n",
       "  <th>Total_OT_Paid</th>                         <td>    1.9952</td> <td>    0.004</td> <td>  484.405</td> <td> 0.000</td> <td>    1.987</td> <td>    2.003</td>\n",
       "</tr>\n",
       "<tr>\n",
       "  <th>years_with_city</th>                       <td>  890.7584</td> <td>    2.079</td> <td>  428.465</td> <td> 0.000</td> <td>  886.684</td> <td>  894.833</td>\n",
       "</tr>\n",
       "<tr>\n",
       "  <th>borough_2</th>                             <td>  981.3006</td> <td>   81.351</td> <td>   12.063</td> <td> 0.000</td> <td>  821.856</td> <td> 1140.745</td>\n",
       "</tr>\n",
       "<tr>\n",
       "  <th>borough_3</th>                             <td> 4883.8834</td> <td>   76.819</td> <td>   63.577</td> <td> 0.000</td> <td> 4733.321</td> <td> 5034.446</td>\n",
       "</tr>\n",
       "<tr>\n",
       "  <th>borough_4</th>                             <td> 1054.1522</td> <td>   83.848</td> <td>   12.572</td> <td> 0.000</td> <td>  889.814</td> <td> 1218.491</td>\n",
       "</tr>\n",
       "<tr>\n",
       "  <th>agency_ADMIN_TRIALS_AND_HEARINGS</th>      <td> 6984.7804</td> <td>  554.754</td> <td>   12.591</td> <td> 0.000</td> <td> 5897.482</td> <td> 8072.079</td>\n",
       "</tr>\n",
       "<tr>\n",
       "  <th>agency_BOARD_OF_CORRECTION</th>            <td> 1.101e+04</td> <td> 1871.605</td> <td>    5.883</td> <td> 0.000</td> <td> 7341.693</td> <td> 1.47e+04</td>\n",
       "</tr>\n",
       "<tr>\n",
       "  <th>agency_BOARD_OF_ELECTION</th>              <td>-2047.1325</td> <td>  433.734</td> <td>   -4.720</td> <td> 0.000</td> <td>-2897.237</td> <td>-1197.028</td>\n",
       "</tr>\n",
       "<tr>\n",
       "  <th>agency_BOROUGH_PRESIDENT_BRONX</th>        <td> 8567.1828</td> <td> 1215.790</td> <td>    7.047</td> <td> 0.000</td> <td> 6184.276</td> <td>  1.1e+04</td>\n",
       "</tr>\n",
       "<tr>\n",
       "  <th>agency_BOROUGH_PRESIDENT_BROOKLYN</th>     <td> 9125.2853</td> <td> 1137.262</td> <td>    8.024</td> <td> 0.000</td> <td> 6896.290</td> <td> 1.14e+04</td>\n",
       "</tr>\n",
       "<tr>\n",
       "  <th>agency_BOROUGH_PRESIDENT_QUEENS</th>       <td> 3600.0833</td> <td> 1180.763</td> <td>    3.049</td> <td> 0.002</td> <td> 1285.829</td> <td> 5914.338</td>\n",
       "</tr>\n",
       "<tr>\n",
       "  <th>agency_BRONX_DISTRICT_ATTORNEY</th>        <td> 4334.5030</td> <td>  313.917</td> <td>   13.808</td> <td> 0.000</td> <td> 3719.237</td> <td> 4949.769</td>\n",
       "</tr>\n",
       "<tr>\n",
       "  <th>agency_BUSINESS_INTEGRITY_COMMISSION</th>  <td> 5244.7992</td> <td> 1016.305</td> <td>    5.161</td> <td> 0.000</td> <td> 3252.876</td> <td> 7236.722</td>\n",
       "</tr>\n",
       "<tr>\n",
       "  <th>agency_CAMPAIGN_FINANCE_BOARD</th>         <td> 1.856e+04</td> <td>  926.925</td> <td>   20.024</td> <td> 0.000</td> <td> 1.67e+04</td> <td> 2.04e+04</td>\n",
       "</tr>\n",
       "<tr>\n",
       "  <th>agency_CITY_CLERK</th>                     <td>-8962.4607</td> <td> 1113.050</td> <td>   -8.052</td> <td> 0.000</td> <td>-1.11e+04</td> <td>-6780.921</td>\n",
       "</tr>\n",
       "<tr>\n",
       "  <th>agency_CITY_COUNCIL</th>                   <td> 2.374e+04</td> <td>  492.738</td> <td>   48.180</td> <td> 0.000</td> <td> 2.28e+04</td> <td> 2.47e+04</td>\n",
       "</tr>\n",
       "<tr>\n",
       "  <th>agency_CIVIL_SERVICE_COMMISSION</th>       <td> 8593.4088</td> <td> 3194.663</td> <td>    2.690</td> <td> 0.007</td> <td> 2331.979</td> <td> 1.49e+04</td>\n",
       "</tr>\n",
       "<tr>\n",
       "  <th>agency_CIVILIAN_COMPLAINT_REVIEW_BD</th>   <td> 7964.0454</td> <td>  711.993</td> <td>   11.186</td> <td> 0.000</td> <td> 6568.564</td> <td> 9359.527</td>\n",
       "</tr>\n",
       "<tr>\n",
       "  <th>agency_COMMUNITY_COLLEGE_BRONX</th>        <td> 6430.3518</td> <td>  328.826</td> <td>   19.555</td> <td> 0.000</td> <td> 5785.864</td> <td> 7074.840</td>\n",
       "</tr>\n",
       "<tr>\n",
       "  <th>agency_COMMUNITY_COLLEGE_HOSTOS</th>       <td> 6398.7656</td> <td>  387.012</td> <td>   16.534</td> <td> 0.000</td> <td> 5640.236</td> <td> 7157.295</td>\n",
       "</tr>\n",
       "<tr>\n",
       "  <th>agency_COMMUNITY_COLLEGE_KINGSBORO</th>    <td> 5151.6546</td> <td>  323.315</td> <td>   15.934</td> <td> 0.000</td> <td> 4517.968</td> <td> 5785.341</td>\n",
       "</tr>\n",
       "<tr>\n",
       "  <th>agency_COMMUNITY_COLLEGE_LAGUARDIA</th>    <td> 8733.1685</td> <td>  294.804</td> <td>   29.624</td> <td> 0.000</td> <td> 8155.363</td> <td> 9310.974</td>\n",
       "</tr>\n",
       "<tr>\n",
       "  <th>agency_COMMUNITY_COLLEGE_MANHATTAN</th>    <td> 3728.7831</td> <td>  273.544</td> <td>   13.631</td> <td> 0.000</td> <td> 3192.646</td> <td> 4264.921</td>\n",
       "</tr>\n",
       "<tr>\n",
       "  <th>agency_COMMUNITY_COLLEGE_QUEENSBORO</th>   <td> 8568.9613</td> <td>  314.224</td> <td>   27.270</td> <td> 0.000</td> <td> 7953.092</td> <td> 9184.830</td>\n",
       "</tr>\n",
       "<tr>\n",
       "  <th>agency_CONFLICTS_OF_INTEREST_BOARD</th>    <td>  2.69e+04</td> <td> 1830.987</td> <td>   14.693</td> <td> 0.000</td> <td> 2.33e+04</td> <td> 3.05e+04</td>\n",
       "</tr>\n",
       "<tr>\n",
       "  <th>agency_CONSUMER_AFFAIRS</th>               <td>-4429.5655</td> <td>  466.814</td> <td>   -9.489</td> <td> 0.000</td> <td>-5344.505</td> <td>-3514.625</td>\n",
       "</tr>\n",
       "<tr>\n",
       "  <th>agency_CULTURAL_AFFAIRS</th>               <td>  1.18e+04</td> <td> 1260.180</td> <td>    9.361</td> <td> 0.000</td> <td> 9326.298</td> <td> 1.43e+04</td>\n",
       "</tr>\n",
       "<tr>\n",
       "  <th>agency_CUNY_CENTRAL_OFFICE</th>            <td> 8136.3449</td> <td> 1650.083</td> <td>    4.931</td> <td> 0.000</td> <td> 4902.240</td> <td> 1.14e+04</td>\n",
       "</tr>\n",
       "<tr>\n",
       "  <th>agency_DEPARTMENT_FOR_THE_AGING</th>       <td>  622.3884</td> <td>  533.662</td> <td>    1.166</td> <td> 0.244</td> <td> -423.571</td> <td> 1668.348</td>\n",
       "</tr>\n",
       "<tr>\n",
       "  <th>agency_DEPARTMENT_OF_BUILDINGS</th>        <td> 7277.6946</td> <td>  264.000</td> <td>   27.567</td> <td> 0.000</td> <td> 6760.263</td> <td> 7795.126</td>\n",
       "</tr>\n",
       "<tr>\n",
       "  <th>agency_DEPARTMENT_OF_BUSINESS_SERV</th>    <td> 9546.6135</td> <td>  569.681</td> <td>   16.758</td> <td> 0.000</td> <td> 8430.058</td> <td> 1.07e+04</td>\n",
       "</tr>\n",
       "<tr>\n",
       "  <th>agency_DEPARTMENT_OF_CITY_PLANNING</th>    <td> 1.066e+04</td> <td>  552.441</td> <td>   19.287</td> <td> 0.000</td> <td> 9572.333</td> <td> 1.17e+04</td>\n",
       "</tr>\n",
       "<tr>\n",
       "  <th>agency_DEPARTMENT_OF_CORRECTION</th>       <td> 2513.0672</td> <td>  149.167</td> <td>   16.847</td> <td> 0.000</td> <td> 2220.706</td> <td> 2805.428</td>\n",
       "</tr>\n",
       "<tr>\n",
       "  <th>agency_DEPARTMENT_OF_EDUCATION_ADMIN</th>  <td>-1859.4751</td> <td>  142.696</td> <td>  -13.031</td> <td> 0.000</td> <td>-2139.154</td> <td>-1579.796</td>\n",
       "</tr>\n",
       "<tr>\n",
       "  <th>agency_DEPARTMENT_OF_FINANCE</th>          <td>  956.2204</td> <td>  235.004</td> <td>    4.069</td> <td> 0.000</td> <td>  495.620</td> <td> 1416.821</td>\n",
       "</tr>\n",
       "<tr>\n",
       "  <th>agency_DEPARTMENT_OF_INVESTIGATION</th>    <td> 1.127e+04</td> <td>  504.910</td> <td>   22.326</td> <td> 0.000</td> <td> 1.03e+04</td> <td> 1.23e+04</td>\n",
       "</tr>\n",
       "<tr>\n",
       "  <th>agency_DEPARTMENT_OF_PROBATION</th>        <td>-1.188e+04</td> <td>  309.433</td> <td>  -38.395</td> <td> 0.000</td> <td>-1.25e+04</td> <td>-1.13e+04</td>\n",
       "</tr>\n",
       "<tr>\n",
       "  <th>agency_DEPARTMENT_OF_SANITATION</th>       <td> 1638.8743</td> <td>  151.361</td> <td>   10.828</td> <td> 0.000</td> <td> 1342.213</td> <td> 1935.536</td>\n",
       "</tr>\n",
       "<tr>\n",
       "  <th>agency_DEPARTMENT_OF_TRANSPORTATION</th>   <td>  173.2051</td> <td>  198.310</td> <td>    0.873</td> <td> 0.382</td> <td> -215.475</td> <td>  561.885</td>\n",
       "</tr>\n",
       "<tr>\n",
       "  <th>agency_DEPT_OF_CITYWIDE_ADMIN_SVCS</th>    <td> 2360.6298</td> <td>  240.879</td> <td>    9.800</td> <td> 0.000</td> <td> 1888.516</td> <td> 2832.744</td>\n",
       "</tr>\n",
       "<tr>\n",
       "  <th>agency_DEPT_OF_ED_PARA_PROFESSIONALS</th>  <td>-2.948e+04</td> <td>  166.986</td> <td> -176.551</td> <td> 0.000</td> <td>-2.98e+04</td> <td>-2.92e+04</td>\n",
       "</tr>\n",
       "<tr>\n",
       "  <th>agency_DEPT_OF_ED_PEDAGOGICAL</th>         <td> 2.052e+04</td> <td>  159.985</td> <td>  128.235</td> <td> 0.000</td> <td> 2.02e+04</td> <td> 2.08e+04</td>\n",
       "</tr>\n",
       "<tr>\n",
       "  <th>agency_DEPT_OF_ENVIRONMENT_PROTECTION</th> <td> 6022.3063</td> <td>  199.111</td> <td>   30.246</td> <td> 0.000</td> <td> 5632.056</td> <td> 6412.557</td>\n",
       "</tr>\n",
       "<tr>\n",
       "  <th>agency_DEPT_OF_HEALTH_MENTAL_HYGIENE</th>  <td> 3810.7983</td> <td>  171.590</td> <td>   22.209</td> <td> 0.000</td> <td> 3474.487</td> <td> 4147.110</td>\n",
       "</tr>\n",
       "<tr>\n",
       "  <th>agency_DEPT_OF_INFO_TECH___TELECOMM</th>   <td> 2.098e+04</td> <td>  261.344</td> <td>   80.293</td> <td> 0.000</td> <td> 2.05e+04</td> <td> 2.15e+04</td>\n",
       "</tr>\n",
       "<tr>\n",
       "  <th>agency_DEPT_OF_PARKS___RECREATION</th>     <td>-6339.2407</td> <td>  188.418</td> <td>  -33.645</td> <td> 0.000</td> <td>-6708.534</td> <td>-5969.948</td>\n",
       "</tr>\n",
       "<tr>\n",
       "  <th>agency_DEPT_OF_RECORDS___INFO_SERVICE</th> <td>-6793.4710</td> <td> 1247.609</td> <td>   -5.445</td> <td> 0.000</td> <td>-9238.742</td> <td>-4348.200</td>\n",
       "</tr>\n",
       "<tr>\n",
       "  <th>agency_DEPT_OF_YOUTH___COMM_DEV_SRVS</th>  <td>  1.11e+04</td> <td>  422.133</td> <td>   26.290</td> <td> 0.000</td> <td> 1.03e+04</td> <td> 1.19e+04</td>\n",
       "</tr>\n",
       "<tr>\n",
       "  <th>agency_DEPT_OF_DESIGN___CONSTRUCTION</th>  <td> 1.413e+04</td> <td>  275.138</td> <td>   51.368</td> <td> 0.000</td> <td> 1.36e+04</td> <td> 1.47e+04</td>\n",
       "</tr>\n",
       "<tr>\n",
       "  <th>agency_DEPT_OF_HOMELESS_SERVICES</th>      <td>-7141.9646</td> <td>  221.515</td> <td>  -32.242</td> <td> 0.000</td> <td>-7576.125</td> <td>-6707.804</td>\n",
       "</tr>\n",
       "<tr>\n",
       "  <th>agency_DISTRICT_ATTORNEY_KINGS_COUNTY</th> <td> 5014.7548</td> <td>  297.548</td> <td>   16.854</td> <td> 0.000</td> <td> 4431.571</td> <td> 5597.939</td>\n",
       "</tr>\n",
       "<tr>\n",
       "  <th>agency_DISTRICT_ATTORNEY_QNS_COUNTY</th>   <td> 1.081e+04</td> <td>  366.081</td> <td>   29.540</td> <td> 0.000</td> <td> 1.01e+04</td> <td> 1.15e+04</td>\n",
       "</tr>\n",
       "<tr>\n",
       "  <th>agency_DISTRICT_ATTORNEY_MANHATTAN</th>    <td> 9058.5093</td> <td>  266.038</td> <td>   34.050</td> <td> 0.000</td> <td> 8537.084</td> <td> 9579.935</td>\n",
       "</tr>\n",
       "<tr>\n",
       "  <th>agency_DISTRICT_ATTORNEY_SPECIAL_NARC</th> <td> 1.976e+04</td> <td>  627.779</td> <td>   31.473</td> <td> 0.000</td> <td> 1.85e+04</td> <td>  2.1e+04</td>\n",
       "</tr>\n",
       "<tr>\n",
       "  <th>agency_EQUAL_EMPLOY_PRACTICES_COMM</th>    <td> 1.684e+04</td> <td> 2813.877</td> <td>    5.983</td> <td> 0.000</td> <td> 1.13e+04</td> <td> 2.24e+04</td>\n",
       "</tr>\n",
       "<tr>\n",
       "  <th>agency_FINANCIAL_INFO_SVCS_AGENCY</th>     <td> 3.691e+04</td> <td>  443.173</td> <td>   83.277</td> <td> 0.000</td> <td>  3.6e+04</td> <td> 3.78e+04</td>\n",
       "</tr>\n",
       "<tr>\n",
       "  <th>agency_FIRE_DEPARTMENT</th>                <td> -301.8388</td> <td>  137.327</td> <td>   -2.198</td> <td> 0.028</td> <td> -570.996</td> <td>  -32.682</td>\n",
       "</tr>\n",
       "<tr>\n",
       "  <th>agency_GUTTMAN_COMMUNITY_COLLEGE</th>      <td> 2.061e+04</td> <td>  723.763</td> <td>   28.481</td> <td> 0.000</td> <td> 1.92e+04</td> <td>  2.2e+04</td>\n",
       "</tr>\n",
       "<tr>\n",
       "  <th>agency_HOUSING_PRESERVATION___DVLPMNT</th> <td>-4984.4502</td> <td>  220.374</td> <td>  -22.618</td> <td> 0.000</td> <td>-5416.376</td> <td>-4552.525</td>\n",
       "</tr>\n",
       "<tr>\n",
       "  <th>agency_HRA_DEPT_OF_SOCIAL_SERVICES</th>    <td>-1.424e+04</td> <td>  138.059</td> <td> -103.156</td> <td> 0.000</td> <td>-1.45e+04</td> <td> -1.4e+04</td>\n",
       "</tr>\n",
       "<tr>\n",
       "  <th>agency_HUMAN_RIGHTS_COMMISSION</th>        <td> 7756.9908</td> <td>  885.971</td> <td>    8.755</td> <td> 0.000</td> <td> 6020.519</td> <td> 9493.463</td>\n",
       "</tr>\n",
       "<tr>\n",
       "  <th>agency_HUNTER_COLLEGE_HIGH_SCHOOL</th>     <td> 2109.1874</td> <td>  683.230</td> <td>    3.087</td> <td> 0.002</td> <td>  770.079</td> <td> 3448.296</td>\n",
       "</tr>\n",
       "<tr>\n",
       "  <th>agency_INDEPENDENT_BUDGET_OFFICE</th>      <td> 3.086e+04</td> <td> 1518.362</td> <td>   20.322</td> <td> 0.000</td> <td> 2.79e+04</td> <td> 3.38e+04</td>\n",
       "</tr>\n",
       "<tr>\n",
       "  <th>agency_LANDMARKS_PRESERVATION_COMM</th>    <td> 2379.1855</td> <td> 1081.574</td> <td>    2.200</td> <td> 0.028</td> <td>  259.337</td> <td> 4499.034</td>\n",
       "</tr>\n",
       "<tr>\n",
       "  <th>agency_LAW_DEPARTMENT</th>                 <td> 1.148e+04</td> <td>  254.101</td> <td>   45.193</td> <td> 0.000</td> <td>  1.1e+04</td> <td>  1.2e+04</td>\n",
       "</tr>\n",
       "<tr>\n",
       "  <th>agency_MAYORS_OFFICE_OF_CONTRACT_SVCS</th> <td> 2.097e+04</td> <td>  968.686</td> <td>   21.644</td> <td> 0.000</td> <td> 1.91e+04</td> <td> 2.29e+04</td>\n",
       "</tr>\n",
       "<tr>\n",
       "  <th>agency_MUNICIPAL_WATER_FIN_AUTHORITY</th>  <td> 2.702e+04</td> <td> 2443.821</td> <td>   11.055</td> <td> 0.000</td> <td> 2.22e+04</td> <td> 3.18e+04</td>\n",
       "</tr>\n",
       "<tr>\n",
       "  <th>agency_NYC_DEPT_OF_VETERANS_SERVICES</th>  <td> 2.567e+04</td> <td> 1933.418</td> <td>   13.278</td> <td> 0.000</td> <td> 2.19e+04</td> <td> 2.95e+04</td>\n",
       "</tr>\n",
       "<tr>\n",
       "  <th>agency_NYC_EMPLOYEES_RETIREMENT_SYS</th>   <td> 3185.4434</td> <td>  458.177</td> <td>    6.952</td> <td> 0.000</td> <td> 2287.432</td> <td> 4083.455</td>\n",
       "</tr>\n",
       "<tr>\n",
       "  <th>agency_NYC_FIRE_PENSION_FUND</th>          <td> 2.583e+04</td> <td> 2425.299</td> <td>   10.651</td> <td> 0.000</td> <td> 2.11e+04</td> <td> 3.06e+04</td>\n",
       "</tr>\n",
       "<tr>\n",
       "  <th>agency_NYC_HOUSING_AUTHORITY</th>          <td>-1.154e+04</td> <td>  150.706</td> <td>  -76.602</td> <td> 0.000</td> <td>-1.18e+04</td> <td>-1.12e+04</td>\n",
       "</tr>\n",
       "<tr>\n",
       "  <th>agency_NYC_POLICE_PENSION_FUND</th>        <td> 7292.3564</td> <td>  769.702</td> <td>    9.474</td> <td> 0.000</td> <td> 5783.767</td> <td> 8800.946</td>\n",
       "</tr>\n",
       "<tr>\n",
       "  <th>agency_OFF_OF_PAYROLL_ADMINISTRATION</th>  <td> 1.389e+04</td> <td>  722.480</td> <td>   19.222</td> <td> 0.000</td> <td> 1.25e+04</td> <td> 1.53e+04</td>\n",
       "</tr>\n",
       "<tr>\n",
       "  <th>agency_OFFICE_OF_COLLECTIVE_BARGAININ</th> <td>   4.4e+04</td> <td> 2189.803</td> <td>   20.092</td> <td> 0.000</td> <td> 3.97e+04</td> <td> 4.83e+04</td>\n",
       "</tr>\n",
       "<tr>\n",
       "  <th>agency_OFFICE_OF_EMERGENCY_MANAGEMENT</th> <td> 2.587e+04</td> <td>  694.419</td> <td>   37.247</td> <td> 0.000</td> <td> 2.45e+04</td> <td> 2.72e+04</td>\n",
       "</tr>\n",
       "<tr>\n",
       "  <th>agency_OFFICE_OF_LABOR_RELATIONS</th>      <td> 6961.5731</td> <td>  802.796</td> <td>    8.672</td> <td> 0.000</td> <td> 5388.120</td> <td> 8535.027</td>\n",
       "</tr>\n",
       "<tr>\n",
       "  <th>agency_OFFICE_OF_MANAGEMENT___BUDGET</th>  <td> 1.944e+04</td> <td>  471.650</td> <td>   41.211</td> <td> 0.000</td> <td> 1.85e+04</td> <td> 2.04e+04</td>\n",
       "</tr>\n",
       "<tr>\n",
       "  <th>agency_OFFICE_OF_THE_ACTUARY</th>          <td> 3.203e+04</td> <td> 1432.450</td> <td>   22.363</td> <td> 0.000</td> <td> 2.92e+04</td> <td> 3.48e+04</td>\n",
       "</tr>\n",
       "<tr>\n",
       "  <th>agency_OFFICE_OF_THE_COMPTROLLER</th>      <td> 1.151e+04</td> <td>  345.831</td> <td>   33.271</td> <td> 0.000</td> <td> 1.08e+04</td> <td> 1.22e+04</td>\n",
       "</tr>\n",
       "<tr>\n",
       "  <th>agency_OFFICE_OF_THE_MAYOR</th>            <td>  3.19e+04</td> <td>  424.884</td> <td>   75.068</td> <td> 0.000</td> <td> 3.11e+04</td> <td> 3.27e+04</td>\n",
       "</tr>\n",
       "<tr>\n",
       "  <th>agency_POLICE_DEPARTMENT</th>              <td> -451.9704</td> <td>  122.003</td> <td>   -3.705</td> <td> 0.000</td> <td> -691.092</td> <td> -212.849</td>\n",
       "</tr>\n",
       "<tr>\n",
       "  <th>agency_PRESIDENT_BOROUGH_OF_MANHATTAN</th> <td> 6782.3114</td> <td> 1230.824</td> <td>    5.510</td> <td> 0.000</td> <td> 4369.938</td> <td> 9194.684</td>\n",
       "</tr>\n",
       "<tr>\n",
       "  <th>agency_PUBLIC_ADMINISTRATOR_BRONX</th>     <td> 5979.3958</td> <td> 3282.521</td> <td>    1.822</td> <td> 0.069</td> <td> -454.233</td> <td> 1.24e+04</td>\n",
       "</tr>\n",
       "<tr>\n",
       "  <th>agency_PUBLIC_ADMINISTRATOR_KINGS</th>     <td>  797.7905</td> <td> 2587.056</td> <td>    0.308</td> <td> 0.758</td> <td>-4272.751</td> <td> 5868.332</td>\n",
       "</tr>\n",
       "<tr>\n",
       "  <th>agency_PUBLIC_ADMINISTRATOR_NEW_YORK</th>  <td>-1.269e+04</td> <td> 2785.659</td> <td>   -4.555</td> <td> 0.000</td> <td>-1.81e+04</td> <td>-7228.430</td>\n",
       "</tr>\n",
       "<tr>\n",
       "  <th>agency_PUBLIC_ADMINISTRATOR_QUEENS</th>    <td>  719.6910</td> <td> 3153.828</td> <td>    0.228</td> <td> 0.819</td> <td>-5461.704</td> <td> 6901.086</td>\n",
       "</tr>\n",
       "<tr>\n",
       "  <th>agency_PUBLIC_ADVOCATE</th>                <td> 1.277e+04</td> <td> 1463.581</td> <td>    8.725</td> <td> 0.000</td> <td> 9900.722</td> <td> 1.56e+04</td>\n",
       "</tr>\n",
       "<tr>\n",
       "  <th>agency_TAX_COMMISSION</th>                 <td> 2.386e+04</td> <td> 1410.512</td> <td>   16.917</td> <td> 0.000</td> <td> 2.11e+04</td> <td> 2.66e+04</td>\n",
       "</tr>\n",
       "<tr>\n",
       "  <th>agency_TAXI___LIMOUSINE_COMMISSION</th>    <td>-6255.3982</td> <td>  403.651</td> <td>  -15.497</td> <td> 0.000</td> <td>-7046.540</td> <td>-5464.257</td>\n",
       "</tr>\n",
       "<tr>\n",
       "  <th>agency_TEACHERS_RETIREMENT_SYSTEM</th>     <td> 8923.2231</td> <td>  482.102</td> <td>   18.509</td> <td> 0.000</td> <td> 7978.321</td> <td> 9868.126</td>\n",
       "</tr>\n",
       "</table>\n",
       "<table class=\"simpletable\">\n",
       "<tr>\n",
       "  <th>Omnibus:</th>       <td>509649.634</td> <th>  Durbin-Watson:     </th>  <td>   1.337</td>  \n",
       "</tr>\n",
       "<tr>\n",
       "  <th>Prob(Omnibus):</th>   <td> 0.000</td>   <th>  Jarque-Bera (JB):  </th> <td>3753820.244</td>\n",
       "</tr>\n",
       "<tr>\n",
       "  <th>Skew:</th>            <td> 1.597</td>   <th>  Prob(JB):          </th>  <td>    0.00</td>  \n",
       "</tr>\n",
       "<tr>\n",
       "  <th>Kurtosis:</th>        <td>10.431</td>   <th>  Cond. No.          </th>  <td>1.76e+07</td>  \n",
       "</tr>\n",
       "</table><br/><br/>Warnings:<br/>[1] Standard Errors assume that the covariance matrix of the errors is correctly specified.<br/>[2] The condition number is large, 1.76e+07. This might indicate that there are<br/>strong multicollinearity or other numerical problems."
      ],
      "text/plain": [
       "<class 'statsmodels.iolib.summary.Summary'>\n",
       "\"\"\"\n",
       "                            OLS Regression Results                            \n",
       "==============================================================================\n",
       "Dep. Variable:            Base_Salary   R-squared:                       0.500\n",
       "Model:                            OLS   Adj. R-squared:                  0.500\n",
       "Method:                 Least Squares   F-statistic:                 1.482e+04\n",
       "Date:                Tue, 25 Feb 2020   Prob (F-statistic):               0.00\n",
       "Time:                        15:50:05   Log-Likelihood:            -1.5572e+07\n",
       "No. Observations:             1377321   AIC:                         3.114e+07\n",
       "Df Residuals:                 1377227   BIC:                         3.115e+07\n",
       "Df Model:                          93                                         \n",
       "Covariance Type:            nonrobust                                         \n",
       "=========================================================================================================\n",
       "                                            coef    std err          t      P>|t|      [0.025      0.975]\n",
       "---------------------------------------------------------------------------------------------------------\n",
       "Intercept                              -4.13e+06   2.41e+04   -171.570      0.000   -4.18e+06   -4.08e+06\n",
       "Fiscal_Year                            2071.4769     11.932    173.613      0.000    2048.091    2094.862\n",
       "Regular_Hours                             4.5330      0.065     69.840      0.000       4.406       4.660\n",
       "OT_Hours                               -110.9197      0.247   -448.426      0.000    -111.405    -110.435\n",
       "Total_OT_Paid                             1.9952      0.004    484.405      0.000       1.987       2.003\n",
       "years_with_city                         890.7584      2.079    428.465      0.000     886.684     894.833\n",
       "borough_2                               981.3006     81.351     12.063      0.000     821.856    1140.745\n",
       "borough_3                              4883.8834     76.819     63.577      0.000    4733.321    5034.446\n",
       "borough_4                              1054.1522     83.848     12.572      0.000     889.814    1218.491\n",
       "agency_ADMIN_TRIALS_AND_HEARINGS       6984.7804    554.754     12.591      0.000    5897.482    8072.079\n",
       "agency_BOARD_OF_CORRECTION             1.101e+04   1871.605      5.883      0.000    7341.693    1.47e+04\n",
       "agency_BOARD_OF_ELECTION              -2047.1325    433.734     -4.720      0.000   -2897.237   -1197.028\n",
       "agency_BOROUGH_PRESIDENT_BRONX         8567.1828   1215.790      7.047      0.000    6184.276     1.1e+04\n",
       "agency_BOROUGH_PRESIDENT_BROOKLYN      9125.2853   1137.262      8.024      0.000    6896.290    1.14e+04\n",
       "agency_BOROUGH_PRESIDENT_QUEENS        3600.0833   1180.763      3.049      0.002    1285.829    5914.338\n",
       "agency_BRONX_DISTRICT_ATTORNEY         4334.5030    313.917     13.808      0.000    3719.237    4949.769\n",
       "agency_BUSINESS_INTEGRITY_COMMISSION   5244.7992   1016.305      5.161      0.000    3252.876    7236.722\n",
       "agency_CAMPAIGN_FINANCE_BOARD          1.856e+04    926.925     20.024      0.000    1.67e+04    2.04e+04\n",
       "agency_CITY_CLERK                     -8962.4607   1113.050     -8.052      0.000   -1.11e+04   -6780.921\n",
       "agency_CITY_COUNCIL                    2.374e+04    492.738     48.180      0.000    2.28e+04    2.47e+04\n",
       "agency_CIVIL_SERVICE_COMMISSION        8593.4088   3194.663      2.690      0.007    2331.979    1.49e+04\n",
       "agency_CIVILIAN_COMPLAINT_REVIEW_BD    7964.0454    711.993     11.186      0.000    6568.564    9359.527\n",
       "agency_COMMUNITY_COLLEGE_BRONX         6430.3518    328.826     19.555      0.000    5785.864    7074.840\n",
       "agency_COMMUNITY_COLLEGE_HOSTOS        6398.7656    387.012     16.534      0.000    5640.236    7157.295\n",
       "agency_COMMUNITY_COLLEGE_KINGSBORO     5151.6546    323.315     15.934      0.000    4517.968    5785.341\n",
       "agency_COMMUNITY_COLLEGE_LAGUARDIA     8733.1685    294.804     29.624      0.000    8155.363    9310.974\n",
       "agency_COMMUNITY_COLLEGE_MANHATTAN     3728.7831    273.544     13.631      0.000    3192.646    4264.921\n",
       "agency_COMMUNITY_COLLEGE_QUEENSBORO    8568.9613    314.224     27.270      0.000    7953.092    9184.830\n",
       "agency_CONFLICTS_OF_INTEREST_BOARD      2.69e+04   1830.987     14.693      0.000    2.33e+04    3.05e+04\n",
       "agency_CONSUMER_AFFAIRS               -4429.5655    466.814     -9.489      0.000   -5344.505   -3514.625\n",
       "agency_CULTURAL_AFFAIRS                 1.18e+04   1260.180      9.361      0.000    9326.298    1.43e+04\n",
       "agency_CUNY_CENTRAL_OFFICE             8136.3449   1650.083      4.931      0.000    4902.240    1.14e+04\n",
       "agency_DEPARTMENT_FOR_THE_AGING         622.3884    533.662      1.166      0.244    -423.571    1668.348\n",
       "agency_DEPARTMENT_OF_BUILDINGS         7277.6946    264.000     27.567      0.000    6760.263    7795.126\n",
       "agency_DEPARTMENT_OF_BUSINESS_SERV     9546.6135    569.681     16.758      0.000    8430.058    1.07e+04\n",
       "agency_DEPARTMENT_OF_CITY_PLANNING     1.066e+04    552.441     19.287      0.000    9572.333    1.17e+04\n",
       "agency_DEPARTMENT_OF_CORRECTION        2513.0672    149.167     16.847      0.000    2220.706    2805.428\n",
       "agency_DEPARTMENT_OF_EDUCATION_ADMIN  -1859.4751    142.696    -13.031      0.000   -2139.154   -1579.796\n",
       "agency_DEPARTMENT_OF_FINANCE            956.2204    235.004      4.069      0.000     495.620    1416.821\n",
       "agency_DEPARTMENT_OF_INVESTIGATION     1.127e+04    504.910     22.326      0.000    1.03e+04    1.23e+04\n",
       "agency_DEPARTMENT_OF_PROBATION        -1.188e+04    309.433    -38.395      0.000   -1.25e+04   -1.13e+04\n",
       "agency_DEPARTMENT_OF_SANITATION        1638.8743    151.361     10.828      0.000    1342.213    1935.536\n",
       "agency_DEPARTMENT_OF_TRANSPORTATION     173.2051    198.310      0.873      0.382    -215.475     561.885\n",
       "agency_DEPT_OF_CITYWIDE_ADMIN_SVCS     2360.6298    240.879      9.800      0.000    1888.516    2832.744\n",
       "agency_DEPT_OF_ED_PARA_PROFESSIONALS  -2.948e+04    166.986   -176.551      0.000   -2.98e+04   -2.92e+04\n",
       "agency_DEPT_OF_ED_PEDAGOGICAL          2.052e+04    159.985    128.235      0.000    2.02e+04    2.08e+04\n",
       "agency_DEPT_OF_ENVIRONMENT_PROTECTION  6022.3063    199.111     30.246      0.000    5632.056    6412.557\n",
       "agency_DEPT_OF_HEALTH_MENTAL_HYGIENE   3810.7983    171.590     22.209      0.000    3474.487    4147.110\n",
       "agency_DEPT_OF_INFO_TECH___TELECOMM    2.098e+04    261.344     80.293      0.000    2.05e+04    2.15e+04\n",
       "agency_DEPT_OF_PARKS___RECREATION     -6339.2407    188.418    -33.645      0.000   -6708.534   -5969.948\n",
       "agency_DEPT_OF_RECORDS___INFO_SERVICE -6793.4710   1247.609     -5.445      0.000   -9238.742   -4348.200\n",
       "agency_DEPT_OF_YOUTH___COMM_DEV_SRVS    1.11e+04    422.133     26.290      0.000    1.03e+04    1.19e+04\n",
       "agency_DEPT_OF_DESIGN___CONSTRUCTION   1.413e+04    275.138     51.368      0.000    1.36e+04    1.47e+04\n",
       "agency_DEPT_OF_HOMELESS_SERVICES      -7141.9646    221.515    -32.242      0.000   -7576.125   -6707.804\n",
       "agency_DISTRICT_ATTORNEY_KINGS_COUNTY  5014.7548    297.548     16.854      0.000    4431.571    5597.939\n",
       "agency_DISTRICT_ATTORNEY_QNS_COUNTY    1.081e+04    366.081     29.540      0.000    1.01e+04    1.15e+04\n",
       "agency_DISTRICT_ATTORNEY_MANHATTAN     9058.5093    266.038     34.050      0.000    8537.084    9579.935\n",
       "agency_DISTRICT_ATTORNEY_SPECIAL_NARC  1.976e+04    627.779     31.473      0.000    1.85e+04     2.1e+04\n",
       "agency_EQUAL_EMPLOY_PRACTICES_COMM     1.684e+04   2813.877      5.983      0.000    1.13e+04    2.24e+04\n",
       "agency_FINANCIAL_INFO_SVCS_AGENCY      3.691e+04    443.173     83.277      0.000     3.6e+04    3.78e+04\n",
       "agency_FIRE_DEPARTMENT                 -301.8388    137.327     -2.198      0.028    -570.996     -32.682\n",
       "agency_GUTTMAN_COMMUNITY_COLLEGE       2.061e+04    723.763     28.481      0.000    1.92e+04     2.2e+04\n",
       "agency_HOUSING_PRESERVATION___DVLPMNT -4984.4502    220.374    -22.618      0.000   -5416.376   -4552.525\n",
       "agency_HRA_DEPT_OF_SOCIAL_SERVICES    -1.424e+04    138.059   -103.156      0.000   -1.45e+04    -1.4e+04\n",
       "agency_HUMAN_RIGHTS_COMMISSION         7756.9908    885.971      8.755      0.000    6020.519    9493.463\n",
       "agency_HUNTER_COLLEGE_HIGH_SCHOOL      2109.1874    683.230      3.087      0.002     770.079    3448.296\n",
       "agency_INDEPENDENT_BUDGET_OFFICE       3.086e+04   1518.362     20.322      0.000    2.79e+04    3.38e+04\n",
       "agency_LANDMARKS_PRESERVATION_COMM     2379.1855   1081.574      2.200      0.028     259.337    4499.034\n",
       "agency_LAW_DEPARTMENT                  1.148e+04    254.101     45.193      0.000     1.1e+04     1.2e+04\n",
       "agency_MAYORS_OFFICE_OF_CONTRACT_SVCS  2.097e+04    968.686     21.644      0.000    1.91e+04    2.29e+04\n",
       "agency_MUNICIPAL_WATER_FIN_AUTHORITY   2.702e+04   2443.821     11.055      0.000    2.22e+04    3.18e+04\n",
       "agency_NYC_DEPT_OF_VETERANS_SERVICES   2.567e+04   1933.418     13.278      0.000    2.19e+04    2.95e+04\n",
       "agency_NYC_EMPLOYEES_RETIREMENT_SYS    3185.4434    458.177      6.952      0.000    2287.432    4083.455\n",
       "agency_NYC_FIRE_PENSION_FUND           2.583e+04   2425.299     10.651      0.000    2.11e+04    3.06e+04\n",
       "agency_NYC_HOUSING_AUTHORITY          -1.154e+04    150.706    -76.602      0.000   -1.18e+04   -1.12e+04\n",
       "agency_NYC_POLICE_PENSION_FUND         7292.3564    769.702      9.474      0.000    5783.767    8800.946\n",
       "agency_OFF_OF_PAYROLL_ADMINISTRATION   1.389e+04    722.480     19.222      0.000    1.25e+04    1.53e+04\n",
       "agency_OFFICE_OF_COLLECTIVE_BARGAININ    4.4e+04   2189.803     20.092      0.000    3.97e+04    4.83e+04\n",
       "agency_OFFICE_OF_EMERGENCY_MANAGEMENT  2.587e+04    694.419     37.247      0.000    2.45e+04    2.72e+04\n",
       "agency_OFFICE_OF_LABOR_RELATIONS       6961.5731    802.796      8.672      0.000    5388.120    8535.027\n",
       "agency_OFFICE_OF_MANAGEMENT___BUDGET   1.944e+04    471.650     41.211      0.000    1.85e+04    2.04e+04\n",
       "agency_OFFICE_OF_THE_ACTUARY           3.203e+04   1432.450     22.363      0.000    2.92e+04    3.48e+04\n",
       "agency_OFFICE_OF_THE_COMPTROLLER       1.151e+04    345.831     33.271      0.000    1.08e+04    1.22e+04\n",
       "agency_OFFICE_OF_THE_MAYOR              3.19e+04    424.884     75.068      0.000    3.11e+04    3.27e+04\n",
       "agency_POLICE_DEPARTMENT               -451.9704    122.003     -3.705      0.000    -691.092    -212.849\n",
       "agency_PRESIDENT_BOROUGH_OF_MANHATTAN  6782.3114   1230.824      5.510      0.000    4369.938    9194.684\n",
       "agency_PUBLIC_ADMINISTRATOR_BRONX      5979.3958   3282.521      1.822      0.069    -454.233    1.24e+04\n",
       "agency_PUBLIC_ADMINISTRATOR_KINGS       797.7905   2587.056      0.308      0.758   -4272.751    5868.332\n",
       "agency_PUBLIC_ADMINISTRATOR_NEW_YORK  -1.269e+04   2785.659     -4.555      0.000   -1.81e+04   -7228.430\n",
       "agency_PUBLIC_ADMINISTRATOR_QUEENS      719.6910   3153.828      0.228      0.819   -5461.704    6901.086\n",
       "agency_PUBLIC_ADVOCATE                 1.277e+04   1463.581      8.725      0.000    9900.722    1.56e+04\n",
       "agency_TAX_COMMISSION                  2.386e+04   1410.512     16.917      0.000    2.11e+04    2.66e+04\n",
       "agency_TAXI___LIMOUSINE_COMMISSION    -6255.3982    403.651    -15.497      0.000   -7046.540   -5464.257\n",
       "agency_TEACHERS_RETIREMENT_SYSTEM      8923.2231    482.102     18.509      0.000    7978.321    9868.126\n",
       "==============================================================================\n",
       "Omnibus:                   509649.634   Durbin-Watson:                   1.337\n",
       "Prob(Omnibus):                  0.000   Jarque-Bera (JB):          3753820.244\n",
       "Skew:                           1.597   Prob(JB):                         0.00\n",
       "Kurtosis:                      10.431   Cond. No.                     1.76e+07\n",
       "==============================================================================\n",
       "\n",
       "Warnings:\n",
       "[1] Standard Errors assume that the covariance matrix of the errors is correctly specified.\n",
       "[2] The condition number is large, 1.76e+07. This might indicate that there are\n",
       "strong multicollinearity or other numerical problems.\n",
       "\"\"\""
      ]
     },
     "execution_count": 29,
     "metadata": {},
     "output_type": "execute_result"
    }
   ],
   "source": [
    "from statsmodels.formula.api import ols\n",
    "mlr_model=ols(formula = features2, data=df).fit()\n",
    "mlr_model.summary()"
   ]
  },
  {
   "cell_type": "code",
   "execution_count": 30,
   "metadata": {},
   "outputs": [
    {
     "data": {
      "text/plain": [
       "['Regular_Hours_scaled',\n",
       " 'OT_Hours_scaled',\n",
       " 'Total_OT_Paid_scaled',\n",
       " 'years_with_city_scaled']"
      ]
     },
     "execution_count": 30,
     "metadata": {},
     "output_type": "execute_result"
    }
   ],
   "source": [
    "# scale continuous variables \n",
    "subset =['Regular_Hours', 'OT_Hours', 'Total_OT_Paid', 'years_with_city']\n",
    "\n",
    "scaler = StandardScaler()\n",
    "\n",
    "subset_scaled = []\n",
    "for var in subset:\n",
    "    new_col = var +\"_scaled\"\n",
    "    df[new_col] = scaler.fit_transform(df[[var]])\n",
    "    subset_scaled.append(new_col)\n",
    "\n",
    "subset_scaled"
   ]
  },
  {
   "cell_type": "code",
   "execution_count": 31,
   "metadata": {},
   "outputs": [
    {
     "data": {
      "text/plain": [
       "'Base_Salary ~ Fiscal_Year + borough_2 + borough_3 + borough_4 + agency_ADMIN_TRIALS_AND_HEARINGS + agency_BOARD_OF_CORRECTION + agency_BOARD_OF_ELECTION + agency_BOROUGH_PRESIDENT_BRONX + agency_BOROUGH_PRESIDENT_BROOKLYN + agency_BOROUGH_PRESIDENT_QUEENS + agency_BRONX_DISTRICT_ATTORNEY + agency_BUSINESS_INTEGRITY_COMMISSION + agency_CAMPAIGN_FINANCE_BOARD + agency_CITY_CLERK + agency_CITY_COUNCIL + agency_CIVIL_SERVICE_COMMISSION + agency_CIVILIAN_COMPLAINT_REVIEW_BD + agency_COMMUNITY_COLLEGE_BRONX + agency_COMMUNITY_COLLEGE_HOSTOS + agency_COMMUNITY_COLLEGE_KINGSBORO + agency_COMMUNITY_COLLEGE_LAGUARDIA + agency_COMMUNITY_COLLEGE_MANHATTAN + agency_COMMUNITY_COLLEGE_QUEENSBORO + agency_CONFLICTS_OF_INTEREST_BOARD + agency_CONSUMER_AFFAIRS + agency_CULTURAL_AFFAIRS + agency_CUNY_CENTRAL_OFFICE + agency_DEPARTMENT_FOR_THE_AGING + agency_DEPARTMENT_OF_BUILDINGS + agency_DEPARTMENT_OF_BUSINESS_SERV + agency_DEPARTMENT_OF_CITY_PLANNING + agency_DEPARTMENT_OF_CORRECTION + agency_DEPARTMENT_OF_EDUCATION_ADMIN + agency_DEPARTMENT_OF_FINANCE + agency_DEPARTMENT_OF_INVESTIGATION + agency_DEPARTMENT_OF_PROBATION + agency_DEPARTMENT_OF_SANITATION + agency_DEPARTMENT_OF_TRANSPORTATION + agency_DEPT_OF_CITYWIDE_ADMIN_SVCS + agency_DEPT_OF_ED_PARA_PROFESSIONALS + agency_DEPT_OF_ED_PEDAGOGICAL + agency_DEPT_OF_ENVIRONMENT_PROTECTION + agency_DEPT_OF_HEALTH_MENTAL_HYGIENE + agency_DEPT_OF_INFO_TECH___TELECOMM + agency_DEPT_OF_PARKS___RECREATION + agency_DEPT_OF_RECORDS___INFO_SERVICE + agency_DEPT_OF_YOUTH___COMM_DEV_SRVS + agency_DEPT_OF_DESIGN___CONSTRUCTION + agency_DEPT_OF_HOMELESS_SERVICES + agency_DISTRICT_ATTORNEY_KINGS_COUNTY + agency_DISTRICT_ATTORNEY_QNS_COUNTY + agency_DISTRICT_ATTORNEY_MANHATTAN + agency_DISTRICT_ATTORNEY_SPECIAL_NARC + agency_EQUAL_EMPLOY_PRACTICES_COMM + agency_FINANCIAL_INFO_SVCS_AGENCY + agency_FIRE_DEPARTMENT + agency_GUTTMAN_COMMUNITY_COLLEGE + agency_HOUSING_PRESERVATION___DVLPMNT + agency_HRA_DEPT_OF_SOCIAL_SERVICES + agency_HUMAN_RIGHTS_COMMISSION + agency_HUNTER_COLLEGE_HIGH_SCHOOL + agency_INDEPENDENT_BUDGET_OFFICE + agency_LANDMARKS_PRESERVATION_COMM + agency_LAW_DEPARTMENT + agency_MAYORS_OFFICE_OF_CONTRACT_SVCS + agency_MUNICIPAL_WATER_FIN_AUTHORITY + agency_NYC_DEPT_OF_VETERANS_SERVICES + agency_NYC_EMPLOYEES_RETIREMENT_SYS + agency_NYC_FIRE_PENSION_FUND + agency_NYC_HOUSING_AUTHORITY + agency_NYC_POLICE_PENSION_FUND + agency_OFF_OF_PAYROLL_ADMINISTRATION + agency_OFFICE_OF_COLLECTIVE_BARGAININ + agency_OFFICE_OF_EMERGENCY_MANAGEMENT + agency_OFFICE_OF_LABOR_RELATIONS + agency_OFFICE_OF_MANAGEMENT___BUDGET + agency_OFFICE_OF_THE_ACTUARY + agency_OFFICE_OF_THE_COMPTROLLER + agency_OFFICE_OF_THE_MAYOR + agency_POLICE_DEPARTMENT + agency_PRESIDENT_BOROUGH_OF_MANHATTAN + agency_PUBLIC_ADMINISTRATOR_BRONX + agency_PUBLIC_ADMINISTRATOR_KINGS + agency_PUBLIC_ADMINISTRATOR_NEW_YORK + agency_PUBLIC_ADMINISTRATOR_QUEENS + agency_PUBLIC_ADVOCATE + agency_TAX_COMMISSION + agency_TAXI___LIMOUSINE_COMMISSION + agency_TEACHERS_RETIREMENT_SYSTEM + Regular_Hours_scaled + OT_Hours_scaled + Total_OT_Paid_scaled + years_with_city_scaled'"
      ]
     },
     "execution_count": 31,
     "metadata": {},
     "output_type": "execute_result"
    }
   ],
   "source": [
    "# create a scaled features columnms\n",
    "featuresSC = list(df.columns)\n",
    "featuresSC.remove('Base_Salary')\n",
    "featuresSC.remove('Regular_Hours')\n",
    "featuresSC.remove('OT_Hours')\n",
    "featuresSC.remove('Total_OT_Paid')\n",
    "featuresSC.remove('years_with_city')\n",
    "\n",
    "new_featureSC = listToString(featuresSC)\n",
    "\n",
    "new_featuresSC = new_featureSC.replace(' ', ' + ')\n",
    "\n",
    "featuresScaled = 'Base_Salary ~ ' + new_featuresSC\n",
    "featuresScaled"
   ]
  },
  {
   "cell_type": "code",
   "execution_count": 32,
   "metadata": {},
   "outputs": [
    {
     "data": {
      "text/html": [
       "<table class=\"simpletable\">\n",
       "<caption>OLS Regression Results</caption>\n",
       "<tr>\n",
       "  <th>Dep. Variable:</th>       <td>Base_Salary</td>   <th>  R-squared:         </th>  <td>   0.500</td>  \n",
       "</tr>\n",
       "<tr>\n",
       "  <th>Model:</th>                   <td>OLS</td>       <th>  Adj. R-squared:    </th>  <td>   0.500</td>  \n",
       "</tr>\n",
       "<tr>\n",
       "  <th>Method:</th>             <td>Least Squares</td>  <th>  F-statistic:       </th>  <td>1.482e+04</td> \n",
       "</tr>\n",
       "<tr>\n",
       "  <th>Date:</th>             <td>Tue, 25 Feb 2020</td> <th>  Prob (F-statistic):</th>   <td>  0.00</td>   \n",
       "</tr>\n",
       "<tr>\n",
       "  <th>Time:</th>                 <td>15:50:36</td>     <th>  Log-Likelihood:    </th> <td>-1.5572e+07</td>\n",
       "</tr>\n",
       "<tr>\n",
       "  <th>No. Observations:</th>      <td>1377321</td>     <th>  AIC:               </th>  <td>3.114e+07</td> \n",
       "</tr>\n",
       "<tr>\n",
       "  <th>Df Residuals:</th>          <td>1377227</td>     <th>  BIC:               </th>  <td>3.115e+07</td> \n",
       "</tr>\n",
       "<tr>\n",
       "  <th>Df Model:</th>              <td>    93</td>      <th>                     </th>      <td> </td>     \n",
       "</tr>\n",
       "<tr>\n",
       "  <th>Covariance Type:</th>      <td>nonrobust</td>    <th>                     </th>      <td> </td>     \n",
       "</tr>\n",
       "</table>\n",
       "<table class=\"simpletable\">\n",
       "<tr>\n",
       "                    <td></td>                       <th>coef</th>     <th>std err</th>      <th>t</th>      <th>P>|t|</th>  <th>[0.025</th>    <th>0.975]</th>  \n",
       "</tr>\n",
       "<tr>\n",
       "  <th>Intercept</th>                             <td>-4.115e+06</td> <td> 2.41e+04</td> <td> -170.951</td> <td> 0.000</td> <td>-4.16e+06</td> <td>-4.07e+06</td>\n",
       "</tr>\n",
       "<tr>\n",
       "  <th>Fiscal_Year</th>                           <td> 2071.4769</td> <td>   11.932</td> <td>  173.613</td> <td> 0.000</td> <td> 2048.091</td> <td> 2094.862</td>\n",
       "</tr>\n",
       "<tr>\n",
       "  <th>borough_2</th>                             <td>  981.3006</td> <td>   81.351</td> <td>   12.063</td> <td> 0.000</td> <td>  821.856</td> <td> 1140.745</td>\n",
       "</tr>\n",
       "<tr>\n",
       "  <th>borough_3</th>                             <td> 4883.8834</td> <td>   76.819</td> <td>   63.577</td> <td> 0.000</td> <td> 4733.321</td> <td> 5034.446</td>\n",
       "</tr>\n",
       "<tr>\n",
       "  <th>borough_4</th>                             <td> 1054.1522</td> <td>   83.848</td> <td>   12.572</td> <td> 0.000</td> <td>  889.814</td> <td> 1218.491</td>\n",
       "</tr>\n",
       "<tr>\n",
       "  <th>agency_ADMIN_TRIALS_AND_HEARINGS</th>      <td> 6984.7804</td> <td>  554.754</td> <td>   12.591</td> <td> 0.000</td> <td> 5897.482</td> <td> 8072.079</td>\n",
       "</tr>\n",
       "<tr>\n",
       "  <th>agency_BOARD_OF_CORRECTION</th>            <td> 1.101e+04</td> <td> 1871.605</td> <td>    5.883</td> <td> 0.000</td> <td> 7341.693</td> <td> 1.47e+04</td>\n",
       "</tr>\n",
       "<tr>\n",
       "  <th>agency_BOARD_OF_ELECTION</th>              <td>-2047.1325</td> <td>  433.734</td> <td>   -4.720</td> <td> 0.000</td> <td>-2897.237</td> <td>-1197.028</td>\n",
       "</tr>\n",
       "<tr>\n",
       "  <th>agency_BOROUGH_PRESIDENT_BRONX</th>        <td> 8567.1828</td> <td> 1215.790</td> <td>    7.047</td> <td> 0.000</td> <td> 6184.276</td> <td>  1.1e+04</td>\n",
       "</tr>\n",
       "<tr>\n",
       "  <th>agency_BOROUGH_PRESIDENT_BROOKLYN</th>     <td> 9125.2853</td> <td> 1137.262</td> <td>    8.024</td> <td> 0.000</td> <td> 6896.290</td> <td> 1.14e+04</td>\n",
       "</tr>\n",
       "<tr>\n",
       "  <th>agency_BOROUGH_PRESIDENT_QUEENS</th>       <td> 3600.0833</td> <td> 1180.763</td> <td>    3.049</td> <td> 0.002</td> <td> 1285.829</td> <td> 5914.338</td>\n",
       "</tr>\n",
       "<tr>\n",
       "  <th>agency_BRONX_DISTRICT_ATTORNEY</th>        <td> 4334.5030</td> <td>  313.917</td> <td>   13.808</td> <td> 0.000</td> <td> 3719.237</td> <td> 4949.769</td>\n",
       "</tr>\n",
       "<tr>\n",
       "  <th>agency_BUSINESS_INTEGRITY_COMMISSION</th>  <td> 5244.7992</td> <td> 1016.305</td> <td>    5.161</td> <td> 0.000</td> <td> 3252.876</td> <td> 7236.722</td>\n",
       "</tr>\n",
       "<tr>\n",
       "  <th>agency_CAMPAIGN_FINANCE_BOARD</th>         <td> 1.856e+04</td> <td>  926.925</td> <td>   20.024</td> <td> 0.000</td> <td> 1.67e+04</td> <td> 2.04e+04</td>\n",
       "</tr>\n",
       "<tr>\n",
       "  <th>agency_CITY_CLERK</th>                     <td>-8962.4607</td> <td> 1113.050</td> <td>   -8.052</td> <td> 0.000</td> <td>-1.11e+04</td> <td>-6780.921</td>\n",
       "</tr>\n",
       "<tr>\n",
       "  <th>agency_CITY_COUNCIL</th>                   <td> 2.374e+04</td> <td>  492.738</td> <td>   48.180</td> <td> 0.000</td> <td> 2.28e+04</td> <td> 2.47e+04</td>\n",
       "</tr>\n",
       "<tr>\n",
       "  <th>agency_CIVIL_SERVICE_COMMISSION</th>       <td> 8593.4088</td> <td> 3194.663</td> <td>    2.690</td> <td> 0.007</td> <td> 2331.979</td> <td> 1.49e+04</td>\n",
       "</tr>\n",
       "<tr>\n",
       "  <th>agency_CIVILIAN_COMPLAINT_REVIEW_BD</th>   <td> 7964.0454</td> <td>  711.993</td> <td>   11.186</td> <td> 0.000</td> <td> 6568.564</td> <td> 9359.527</td>\n",
       "</tr>\n",
       "<tr>\n",
       "  <th>agency_COMMUNITY_COLLEGE_BRONX</th>        <td> 6430.3518</td> <td>  328.826</td> <td>   19.555</td> <td> 0.000</td> <td> 5785.864</td> <td> 7074.840</td>\n",
       "</tr>\n",
       "<tr>\n",
       "  <th>agency_COMMUNITY_COLLEGE_HOSTOS</th>       <td> 6398.7656</td> <td>  387.012</td> <td>   16.534</td> <td> 0.000</td> <td> 5640.236</td> <td> 7157.295</td>\n",
       "</tr>\n",
       "<tr>\n",
       "  <th>agency_COMMUNITY_COLLEGE_KINGSBORO</th>    <td> 5151.6546</td> <td>  323.315</td> <td>   15.934</td> <td> 0.000</td> <td> 4517.968</td> <td> 5785.341</td>\n",
       "</tr>\n",
       "<tr>\n",
       "  <th>agency_COMMUNITY_COLLEGE_LAGUARDIA</th>    <td> 8733.1685</td> <td>  294.804</td> <td>   29.624</td> <td> 0.000</td> <td> 8155.363</td> <td> 9310.974</td>\n",
       "</tr>\n",
       "<tr>\n",
       "  <th>agency_COMMUNITY_COLLEGE_MANHATTAN</th>    <td> 3728.7831</td> <td>  273.544</td> <td>   13.631</td> <td> 0.000</td> <td> 3192.646</td> <td> 4264.921</td>\n",
       "</tr>\n",
       "<tr>\n",
       "  <th>agency_COMMUNITY_COLLEGE_QUEENSBORO</th>   <td> 8568.9613</td> <td>  314.224</td> <td>   27.270</td> <td> 0.000</td> <td> 7953.092</td> <td> 9184.830</td>\n",
       "</tr>\n",
       "<tr>\n",
       "  <th>agency_CONFLICTS_OF_INTEREST_BOARD</th>    <td>  2.69e+04</td> <td> 1830.987</td> <td>   14.693</td> <td> 0.000</td> <td> 2.33e+04</td> <td> 3.05e+04</td>\n",
       "</tr>\n",
       "<tr>\n",
       "  <th>agency_CONSUMER_AFFAIRS</th>               <td>-4429.5655</td> <td>  466.814</td> <td>   -9.489</td> <td> 0.000</td> <td>-5344.505</td> <td>-3514.625</td>\n",
       "</tr>\n",
       "<tr>\n",
       "  <th>agency_CULTURAL_AFFAIRS</th>               <td>  1.18e+04</td> <td> 1260.180</td> <td>    9.361</td> <td> 0.000</td> <td> 9326.298</td> <td> 1.43e+04</td>\n",
       "</tr>\n",
       "<tr>\n",
       "  <th>agency_CUNY_CENTRAL_OFFICE</th>            <td> 8136.3449</td> <td> 1650.083</td> <td>    4.931</td> <td> 0.000</td> <td> 4902.240</td> <td> 1.14e+04</td>\n",
       "</tr>\n",
       "<tr>\n",
       "  <th>agency_DEPARTMENT_FOR_THE_AGING</th>       <td>  622.3884</td> <td>  533.662</td> <td>    1.166</td> <td> 0.244</td> <td> -423.571</td> <td> 1668.348</td>\n",
       "</tr>\n",
       "<tr>\n",
       "  <th>agency_DEPARTMENT_OF_BUILDINGS</th>        <td> 7277.6946</td> <td>  264.000</td> <td>   27.567</td> <td> 0.000</td> <td> 6760.263</td> <td> 7795.126</td>\n",
       "</tr>\n",
       "<tr>\n",
       "  <th>agency_DEPARTMENT_OF_BUSINESS_SERV</th>    <td> 9546.6135</td> <td>  569.681</td> <td>   16.758</td> <td> 0.000</td> <td> 8430.058</td> <td> 1.07e+04</td>\n",
       "</tr>\n",
       "<tr>\n",
       "  <th>agency_DEPARTMENT_OF_CITY_PLANNING</th>    <td> 1.066e+04</td> <td>  552.441</td> <td>   19.287</td> <td> 0.000</td> <td> 9572.333</td> <td> 1.17e+04</td>\n",
       "</tr>\n",
       "<tr>\n",
       "  <th>agency_DEPARTMENT_OF_CORRECTION</th>       <td> 2513.0672</td> <td>  149.167</td> <td>   16.847</td> <td> 0.000</td> <td> 2220.706</td> <td> 2805.428</td>\n",
       "</tr>\n",
       "<tr>\n",
       "  <th>agency_DEPARTMENT_OF_EDUCATION_ADMIN</th>  <td>-1859.4751</td> <td>  142.696</td> <td>  -13.031</td> <td> 0.000</td> <td>-2139.154</td> <td>-1579.796</td>\n",
       "</tr>\n",
       "<tr>\n",
       "  <th>agency_DEPARTMENT_OF_FINANCE</th>          <td>  956.2204</td> <td>  235.004</td> <td>    4.069</td> <td> 0.000</td> <td>  495.620</td> <td> 1416.821</td>\n",
       "</tr>\n",
       "<tr>\n",
       "  <th>agency_DEPARTMENT_OF_INVESTIGATION</th>    <td> 1.127e+04</td> <td>  504.910</td> <td>   22.326</td> <td> 0.000</td> <td> 1.03e+04</td> <td> 1.23e+04</td>\n",
       "</tr>\n",
       "<tr>\n",
       "  <th>agency_DEPARTMENT_OF_PROBATION</th>        <td>-1.188e+04</td> <td>  309.433</td> <td>  -38.395</td> <td> 0.000</td> <td>-1.25e+04</td> <td>-1.13e+04</td>\n",
       "</tr>\n",
       "<tr>\n",
       "  <th>agency_DEPARTMENT_OF_SANITATION</th>       <td> 1638.8743</td> <td>  151.361</td> <td>   10.828</td> <td> 0.000</td> <td> 1342.213</td> <td> 1935.536</td>\n",
       "</tr>\n",
       "<tr>\n",
       "  <th>agency_DEPARTMENT_OF_TRANSPORTATION</th>   <td>  173.2051</td> <td>  198.310</td> <td>    0.873</td> <td> 0.382</td> <td> -215.475</td> <td>  561.885</td>\n",
       "</tr>\n",
       "<tr>\n",
       "  <th>agency_DEPT_OF_CITYWIDE_ADMIN_SVCS</th>    <td> 2360.6298</td> <td>  240.879</td> <td>    9.800</td> <td> 0.000</td> <td> 1888.516</td> <td> 2832.744</td>\n",
       "</tr>\n",
       "<tr>\n",
       "  <th>agency_DEPT_OF_ED_PARA_PROFESSIONALS</th>  <td>-2.948e+04</td> <td>  166.986</td> <td> -176.551</td> <td> 0.000</td> <td>-2.98e+04</td> <td>-2.92e+04</td>\n",
       "</tr>\n",
       "<tr>\n",
       "  <th>agency_DEPT_OF_ED_PEDAGOGICAL</th>         <td> 2.052e+04</td> <td>  159.985</td> <td>  128.235</td> <td> 0.000</td> <td> 2.02e+04</td> <td> 2.08e+04</td>\n",
       "</tr>\n",
       "<tr>\n",
       "  <th>agency_DEPT_OF_ENVIRONMENT_PROTECTION</th> <td> 6022.3063</td> <td>  199.111</td> <td>   30.246</td> <td> 0.000</td> <td> 5632.056</td> <td> 6412.557</td>\n",
       "</tr>\n",
       "<tr>\n",
       "  <th>agency_DEPT_OF_HEALTH_MENTAL_HYGIENE</th>  <td> 3810.7983</td> <td>  171.590</td> <td>   22.209</td> <td> 0.000</td> <td> 3474.487</td> <td> 4147.110</td>\n",
       "</tr>\n",
       "<tr>\n",
       "  <th>agency_DEPT_OF_INFO_TECH___TELECOMM</th>   <td> 2.098e+04</td> <td>  261.344</td> <td>   80.293</td> <td> 0.000</td> <td> 2.05e+04</td> <td> 2.15e+04</td>\n",
       "</tr>\n",
       "<tr>\n",
       "  <th>agency_DEPT_OF_PARKS___RECREATION</th>     <td>-6339.2407</td> <td>  188.418</td> <td>  -33.645</td> <td> 0.000</td> <td>-6708.534</td> <td>-5969.948</td>\n",
       "</tr>\n",
       "<tr>\n",
       "  <th>agency_DEPT_OF_RECORDS___INFO_SERVICE</th> <td>-6793.4710</td> <td> 1247.609</td> <td>   -5.445</td> <td> 0.000</td> <td>-9238.742</td> <td>-4348.200</td>\n",
       "</tr>\n",
       "<tr>\n",
       "  <th>agency_DEPT_OF_YOUTH___COMM_DEV_SRVS</th>  <td>  1.11e+04</td> <td>  422.133</td> <td>   26.290</td> <td> 0.000</td> <td> 1.03e+04</td> <td> 1.19e+04</td>\n",
       "</tr>\n",
       "<tr>\n",
       "  <th>agency_DEPT_OF_DESIGN___CONSTRUCTION</th>  <td> 1.413e+04</td> <td>  275.138</td> <td>   51.368</td> <td> 0.000</td> <td> 1.36e+04</td> <td> 1.47e+04</td>\n",
       "</tr>\n",
       "<tr>\n",
       "  <th>agency_DEPT_OF_HOMELESS_SERVICES</th>      <td>-7141.9646</td> <td>  221.515</td> <td>  -32.242</td> <td> 0.000</td> <td>-7576.125</td> <td>-6707.804</td>\n",
       "</tr>\n",
       "<tr>\n",
       "  <th>agency_DISTRICT_ATTORNEY_KINGS_COUNTY</th> <td> 5014.7548</td> <td>  297.548</td> <td>   16.854</td> <td> 0.000</td> <td> 4431.571</td> <td> 5597.939</td>\n",
       "</tr>\n",
       "<tr>\n",
       "  <th>agency_DISTRICT_ATTORNEY_QNS_COUNTY</th>   <td> 1.081e+04</td> <td>  366.081</td> <td>   29.540</td> <td> 0.000</td> <td> 1.01e+04</td> <td> 1.15e+04</td>\n",
       "</tr>\n",
       "<tr>\n",
       "  <th>agency_DISTRICT_ATTORNEY_MANHATTAN</th>    <td> 9058.5093</td> <td>  266.038</td> <td>   34.050</td> <td> 0.000</td> <td> 8537.084</td> <td> 9579.935</td>\n",
       "</tr>\n",
       "<tr>\n",
       "  <th>agency_DISTRICT_ATTORNEY_SPECIAL_NARC</th> <td> 1.976e+04</td> <td>  627.779</td> <td>   31.473</td> <td> 0.000</td> <td> 1.85e+04</td> <td>  2.1e+04</td>\n",
       "</tr>\n",
       "<tr>\n",
       "  <th>agency_EQUAL_EMPLOY_PRACTICES_COMM</th>    <td> 1.684e+04</td> <td> 2813.877</td> <td>    5.983</td> <td> 0.000</td> <td> 1.13e+04</td> <td> 2.24e+04</td>\n",
       "</tr>\n",
       "<tr>\n",
       "  <th>agency_FINANCIAL_INFO_SVCS_AGENCY</th>     <td> 3.691e+04</td> <td>  443.173</td> <td>   83.277</td> <td> 0.000</td> <td>  3.6e+04</td> <td> 3.78e+04</td>\n",
       "</tr>\n",
       "<tr>\n",
       "  <th>agency_FIRE_DEPARTMENT</th>                <td> -301.8388</td> <td>  137.327</td> <td>   -2.198</td> <td> 0.028</td> <td> -570.996</td> <td>  -32.682</td>\n",
       "</tr>\n",
       "<tr>\n",
       "  <th>agency_GUTTMAN_COMMUNITY_COLLEGE</th>      <td> 2.061e+04</td> <td>  723.763</td> <td>   28.481</td> <td> 0.000</td> <td> 1.92e+04</td> <td>  2.2e+04</td>\n",
       "</tr>\n",
       "<tr>\n",
       "  <th>agency_HOUSING_PRESERVATION___DVLPMNT</th> <td>-4984.4502</td> <td>  220.374</td> <td>  -22.618</td> <td> 0.000</td> <td>-5416.376</td> <td>-4552.525</td>\n",
       "</tr>\n",
       "<tr>\n",
       "  <th>agency_HRA_DEPT_OF_SOCIAL_SERVICES</th>    <td>-1.424e+04</td> <td>  138.059</td> <td> -103.156</td> <td> 0.000</td> <td>-1.45e+04</td> <td> -1.4e+04</td>\n",
       "</tr>\n",
       "<tr>\n",
       "  <th>agency_HUMAN_RIGHTS_COMMISSION</th>        <td> 7756.9908</td> <td>  885.971</td> <td>    8.755</td> <td> 0.000</td> <td> 6020.519</td> <td> 9493.463</td>\n",
       "</tr>\n",
       "<tr>\n",
       "  <th>agency_HUNTER_COLLEGE_HIGH_SCHOOL</th>     <td> 2109.1874</td> <td>  683.230</td> <td>    3.087</td> <td> 0.002</td> <td>  770.079</td> <td> 3448.296</td>\n",
       "</tr>\n",
       "<tr>\n",
       "  <th>agency_INDEPENDENT_BUDGET_OFFICE</th>      <td> 3.086e+04</td> <td> 1518.362</td> <td>   20.322</td> <td> 0.000</td> <td> 2.79e+04</td> <td> 3.38e+04</td>\n",
       "</tr>\n",
       "<tr>\n",
       "  <th>agency_LANDMARKS_PRESERVATION_COMM</th>    <td> 2379.1855</td> <td> 1081.574</td> <td>    2.200</td> <td> 0.028</td> <td>  259.337</td> <td> 4499.034</td>\n",
       "</tr>\n",
       "<tr>\n",
       "  <th>agency_LAW_DEPARTMENT</th>                 <td> 1.148e+04</td> <td>  254.101</td> <td>   45.193</td> <td> 0.000</td> <td>  1.1e+04</td> <td>  1.2e+04</td>\n",
       "</tr>\n",
       "<tr>\n",
       "  <th>agency_MAYORS_OFFICE_OF_CONTRACT_SVCS</th> <td> 2.097e+04</td> <td>  968.686</td> <td>   21.644</td> <td> 0.000</td> <td> 1.91e+04</td> <td> 2.29e+04</td>\n",
       "</tr>\n",
       "<tr>\n",
       "  <th>agency_MUNICIPAL_WATER_FIN_AUTHORITY</th>  <td> 2.702e+04</td> <td> 2443.821</td> <td>   11.055</td> <td> 0.000</td> <td> 2.22e+04</td> <td> 3.18e+04</td>\n",
       "</tr>\n",
       "<tr>\n",
       "  <th>agency_NYC_DEPT_OF_VETERANS_SERVICES</th>  <td> 2.567e+04</td> <td> 1933.418</td> <td>   13.278</td> <td> 0.000</td> <td> 2.19e+04</td> <td> 2.95e+04</td>\n",
       "</tr>\n",
       "<tr>\n",
       "  <th>agency_NYC_EMPLOYEES_RETIREMENT_SYS</th>   <td> 3185.4434</td> <td>  458.177</td> <td>    6.952</td> <td> 0.000</td> <td> 2287.432</td> <td> 4083.455</td>\n",
       "</tr>\n",
       "<tr>\n",
       "  <th>agency_NYC_FIRE_PENSION_FUND</th>          <td> 2.583e+04</td> <td> 2425.299</td> <td>   10.651</td> <td> 0.000</td> <td> 2.11e+04</td> <td> 3.06e+04</td>\n",
       "</tr>\n",
       "<tr>\n",
       "  <th>agency_NYC_HOUSING_AUTHORITY</th>          <td>-1.154e+04</td> <td>  150.706</td> <td>  -76.602</td> <td> 0.000</td> <td>-1.18e+04</td> <td>-1.12e+04</td>\n",
       "</tr>\n",
       "<tr>\n",
       "  <th>agency_NYC_POLICE_PENSION_FUND</th>        <td> 7292.3564</td> <td>  769.702</td> <td>    9.474</td> <td> 0.000</td> <td> 5783.767</td> <td> 8800.946</td>\n",
       "</tr>\n",
       "<tr>\n",
       "  <th>agency_OFF_OF_PAYROLL_ADMINISTRATION</th>  <td> 1.389e+04</td> <td>  722.480</td> <td>   19.222</td> <td> 0.000</td> <td> 1.25e+04</td> <td> 1.53e+04</td>\n",
       "</tr>\n",
       "<tr>\n",
       "  <th>agency_OFFICE_OF_COLLECTIVE_BARGAININ</th> <td>   4.4e+04</td> <td> 2189.803</td> <td>   20.092</td> <td> 0.000</td> <td> 3.97e+04</td> <td> 4.83e+04</td>\n",
       "</tr>\n",
       "<tr>\n",
       "  <th>agency_OFFICE_OF_EMERGENCY_MANAGEMENT</th> <td> 2.587e+04</td> <td>  694.419</td> <td>   37.247</td> <td> 0.000</td> <td> 2.45e+04</td> <td> 2.72e+04</td>\n",
       "</tr>\n",
       "<tr>\n",
       "  <th>agency_OFFICE_OF_LABOR_RELATIONS</th>      <td> 6961.5731</td> <td>  802.796</td> <td>    8.672</td> <td> 0.000</td> <td> 5388.120</td> <td> 8535.027</td>\n",
       "</tr>\n",
       "<tr>\n",
       "  <th>agency_OFFICE_OF_MANAGEMENT___BUDGET</th>  <td> 1.944e+04</td> <td>  471.650</td> <td>   41.211</td> <td> 0.000</td> <td> 1.85e+04</td> <td> 2.04e+04</td>\n",
       "</tr>\n",
       "<tr>\n",
       "  <th>agency_OFFICE_OF_THE_ACTUARY</th>          <td> 3.203e+04</td> <td> 1432.450</td> <td>   22.363</td> <td> 0.000</td> <td> 2.92e+04</td> <td> 3.48e+04</td>\n",
       "</tr>\n",
       "<tr>\n",
       "  <th>agency_OFFICE_OF_THE_COMPTROLLER</th>      <td> 1.151e+04</td> <td>  345.831</td> <td>   33.271</td> <td> 0.000</td> <td> 1.08e+04</td> <td> 1.22e+04</td>\n",
       "</tr>\n",
       "<tr>\n",
       "  <th>agency_OFFICE_OF_THE_MAYOR</th>            <td>  3.19e+04</td> <td>  424.884</td> <td>   75.068</td> <td> 0.000</td> <td> 3.11e+04</td> <td> 3.27e+04</td>\n",
       "</tr>\n",
       "<tr>\n",
       "  <th>agency_POLICE_DEPARTMENT</th>              <td> -451.9704</td> <td>  122.003</td> <td>   -3.705</td> <td> 0.000</td> <td> -691.092</td> <td> -212.849</td>\n",
       "</tr>\n",
       "<tr>\n",
       "  <th>agency_PRESIDENT_BOROUGH_OF_MANHATTAN</th> <td> 6782.3114</td> <td> 1230.824</td> <td>    5.510</td> <td> 0.000</td> <td> 4369.938</td> <td> 9194.684</td>\n",
       "</tr>\n",
       "<tr>\n",
       "  <th>agency_PUBLIC_ADMINISTRATOR_BRONX</th>     <td> 5979.3958</td> <td> 3282.521</td> <td>    1.822</td> <td> 0.069</td> <td> -454.233</td> <td> 1.24e+04</td>\n",
       "</tr>\n",
       "<tr>\n",
       "  <th>agency_PUBLIC_ADMINISTRATOR_KINGS</th>     <td>  797.7905</td> <td> 2587.056</td> <td>    0.308</td> <td> 0.758</td> <td>-4272.751</td> <td> 5868.332</td>\n",
       "</tr>\n",
       "<tr>\n",
       "  <th>agency_PUBLIC_ADMINISTRATOR_NEW_YORK</th>  <td>-1.269e+04</td> <td> 2785.659</td> <td>   -4.555</td> <td> 0.000</td> <td>-1.81e+04</td> <td>-7228.430</td>\n",
       "</tr>\n",
       "<tr>\n",
       "  <th>agency_PUBLIC_ADMINISTRATOR_QUEENS</th>    <td>  719.6910</td> <td> 3153.828</td> <td>    0.228</td> <td> 0.819</td> <td>-5461.704</td> <td> 6901.086</td>\n",
       "</tr>\n",
       "<tr>\n",
       "  <th>agency_PUBLIC_ADVOCATE</th>                <td> 1.277e+04</td> <td> 1463.581</td> <td>    8.725</td> <td> 0.000</td> <td> 9900.722</td> <td> 1.56e+04</td>\n",
       "</tr>\n",
       "<tr>\n",
       "  <th>agency_TAX_COMMISSION</th>                 <td> 2.386e+04</td> <td> 1410.512</td> <td>   16.917</td> <td> 0.000</td> <td> 2.11e+04</td> <td> 2.66e+04</td>\n",
       "</tr>\n",
       "<tr>\n",
       "  <th>agency_TAXI___LIMOUSINE_COMMISSION</th>    <td>-6255.3982</td> <td>  403.651</td> <td>  -15.497</td> <td> 0.000</td> <td>-7046.540</td> <td>-5464.257</td>\n",
       "</tr>\n",
       "<tr>\n",
       "  <th>agency_TEACHERS_RETIREMENT_SYSTEM</th>     <td> 8923.2231</td> <td>  482.102</td> <td>   18.509</td> <td> 0.000</td> <td> 7978.321</td> <td> 9868.126</td>\n",
       "</tr>\n",
       "<tr>\n",
       "  <th>Regular_Hours_scaled</th>                  <td> 4278.8432</td> <td>   61.266</td> <td>   69.840</td> <td> 0.000</td> <td> 4158.764</td> <td> 4398.922</td>\n",
       "</tr>\n",
       "<tr>\n",
       "  <th>OT_Hours_scaled</th>                       <td>-2.016e+04</td> <td>   44.968</td> <td> -448.426</td> <td> 0.000</td> <td>-2.03e+04</td> <td>-2.01e+04</td>\n",
       "</tr>\n",
       "<tr>\n",
       "  <th>Total_OT_Paid_scaled</th>                  <td> 2.166e+04</td> <td>   44.705</td> <td>  484.405</td> <td> 0.000</td> <td> 2.16e+04</td> <td> 2.17e+04</td>\n",
       "</tr>\n",
       "<tr>\n",
       "  <th>years_with_city_scaled</th>                <td> 7689.1567</td> <td>   17.946</td> <td>  428.465</td> <td> 0.000</td> <td> 7653.984</td> <td> 7724.330</td>\n",
       "</tr>\n",
       "</table>\n",
       "<table class=\"simpletable\">\n",
       "<tr>\n",
       "  <th>Omnibus:</th>       <td>509649.634</td> <th>  Durbin-Watson:     </th>  <td>   1.337</td>  \n",
       "</tr>\n",
       "<tr>\n",
       "  <th>Prob(Omnibus):</th>   <td> 0.000</td>   <th>  Jarque-Bera (JB):  </th> <td>3753820.244</td>\n",
       "</tr>\n",
       "<tr>\n",
       "  <th>Skew:</th>            <td> 1.597</td>   <th>  Prob(JB):          </th>  <td>    0.00</td>  \n",
       "</tr>\n",
       "<tr>\n",
       "  <th>Kurtosis:</th>        <td>10.431</td>   <th>  Cond. No.          </th>  <td>2.90e+06</td>  \n",
       "</tr>\n",
       "</table><br/><br/>Warnings:<br/>[1] Standard Errors assume that the covariance matrix of the errors is correctly specified.<br/>[2] The condition number is large, 2.9e+06. This might indicate that there are<br/>strong multicollinearity or other numerical problems."
      ],
      "text/plain": [
       "<class 'statsmodels.iolib.summary.Summary'>\n",
       "\"\"\"\n",
       "                            OLS Regression Results                            \n",
       "==============================================================================\n",
       "Dep. Variable:            Base_Salary   R-squared:                       0.500\n",
       "Model:                            OLS   Adj. R-squared:                  0.500\n",
       "Method:                 Least Squares   F-statistic:                 1.482e+04\n",
       "Date:                Tue, 25 Feb 2020   Prob (F-statistic):               0.00\n",
       "Time:                        15:50:36   Log-Likelihood:            -1.5572e+07\n",
       "No. Observations:             1377321   AIC:                         3.114e+07\n",
       "Df Residuals:                 1377227   BIC:                         3.115e+07\n",
       "Df Model:                          93                                         \n",
       "Covariance Type:            nonrobust                                         \n",
       "=========================================================================================================\n",
       "                                            coef    std err          t      P>|t|      [0.025      0.975]\n",
       "---------------------------------------------------------------------------------------------------------\n",
       "Intercept                             -4.115e+06   2.41e+04   -170.951      0.000   -4.16e+06   -4.07e+06\n",
       "Fiscal_Year                            2071.4769     11.932    173.613      0.000    2048.091    2094.862\n",
       "borough_2                               981.3006     81.351     12.063      0.000     821.856    1140.745\n",
       "borough_3                              4883.8834     76.819     63.577      0.000    4733.321    5034.446\n",
       "borough_4                              1054.1522     83.848     12.572      0.000     889.814    1218.491\n",
       "agency_ADMIN_TRIALS_AND_HEARINGS       6984.7804    554.754     12.591      0.000    5897.482    8072.079\n",
       "agency_BOARD_OF_CORRECTION             1.101e+04   1871.605      5.883      0.000    7341.693    1.47e+04\n",
       "agency_BOARD_OF_ELECTION              -2047.1325    433.734     -4.720      0.000   -2897.237   -1197.028\n",
       "agency_BOROUGH_PRESIDENT_BRONX         8567.1828   1215.790      7.047      0.000    6184.276     1.1e+04\n",
       "agency_BOROUGH_PRESIDENT_BROOKLYN      9125.2853   1137.262      8.024      0.000    6896.290    1.14e+04\n",
       "agency_BOROUGH_PRESIDENT_QUEENS        3600.0833   1180.763      3.049      0.002    1285.829    5914.338\n",
       "agency_BRONX_DISTRICT_ATTORNEY         4334.5030    313.917     13.808      0.000    3719.237    4949.769\n",
       "agency_BUSINESS_INTEGRITY_COMMISSION   5244.7992   1016.305      5.161      0.000    3252.876    7236.722\n",
       "agency_CAMPAIGN_FINANCE_BOARD          1.856e+04    926.925     20.024      0.000    1.67e+04    2.04e+04\n",
       "agency_CITY_CLERK                     -8962.4607   1113.050     -8.052      0.000   -1.11e+04   -6780.921\n",
       "agency_CITY_COUNCIL                    2.374e+04    492.738     48.180      0.000    2.28e+04    2.47e+04\n",
       "agency_CIVIL_SERVICE_COMMISSION        8593.4088   3194.663      2.690      0.007    2331.979    1.49e+04\n",
       "agency_CIVILIAN_COMPLAINT_REVIEW_BD    7964.0454    711.993     11.186      0.000    6568.564    9359.527\n",
       "agency_COMMUNITY_COLLEGE_BRONX         6430.3518    328.826     19.555      0.000    5785.864    7074.840\n",
       "agency_COMMUNITY_COLLEGE_HOSTOS        6398.7656    387.012     16.534      0.000    5640.236    7157.295\n",
       "agency_COMMUNITY_COLLEGE_KINGSBORO     5151.6546    323.315     15.934      0.000    4517.968    5785.341\n",
       "agency_COMMUNITY_COLLEGE_LAGUARDIA     8733.1685    294.804     29.624      0.000    8155.363    9310.974\n",
       "agency_COMMUNITY_COLLEGE_MANHATTAN     3728.7831    273.544     13.631      0.000    3192.646    4264.921\n",
       "agency_COMMUNITY_COLLEGE_QUEENSBORO    8568.9613    314.224     27.270      0.000    7953.092    9184.830\n",
       "agency_CONFLICTS_OF_INTEREST_BOARD      2.69e+04   1830.987     14.693      0.000    2.33e+04    3.05e+04\n",
       "agency_CONSUMER_AFFAIRS               -4429.5655    466.814     -9.489      0.000   -5344.505   -3514.625\n",
       "agency_CULTURAL_AFFAIRS                 1.18e+04   1260.180      9.361      0.000    9326.298    1.43e+04\n",
       "agency_CUNY_CENTRAL_OFFICE             8136.3449   1650.083      4.931      0.000    4902.240    1.14e+04\n",
       "agency_DEPARTMENT_FOR_THE_AGING         622.3884    533.662      1.166      0.244    -423.571    1668.348\n",
       "agency_DEPARTMENT_OF_BUILDINGS         7277.6946    264.000     27.567      0.000    6760.263    7795.126\n",
       "agency_DEPARTMENT_OF_BUSINESS_SERV     9546.6135    569.681     16.758      0.000    8430.058    1.07e+04\n",
       "agency_DEPARTMENT_OF_CITY_PLANNING     1.066e+04    552.441     19.287      0.000    9572.333    1.17e+04\n",
       "agency_DEPARTMENT_OF_CORRECTION        2513.0672    149.167     16.847      0.000    2220.706    2805.428\n",
       "agency_DEPARTMENT_OF_EDUCATION_ADMIN  -1859.4751    142.696    -13.031      0.000   -2139.154   -1579.796\n",
       "agency_DEPARTMENT_OF_FINANCE            956.2204    235.004      4.069      0.000     495.620    1416.821\n",
       "agency_DEPARTMENT_OF_INVESTIGATION     1.127e+04    504.910     22.326      0.000    1.03e+04    1.23e+04\n",
       "agency_DEPARTMENT_OF_PROBATION        -1.188e+04    309.433    -38.395      0.000   -1.25e+04   -1.13e+04\n",
       "agency_DEPARTMENT_OF_SANITATION        1638.8743    151.361     10.828      0.000    1342.213    1935.536\n",
       "agency_DEPARTMENT_OF_TRANSPORTATION     173.2051    198.310      0.873      0.382    -215.475     561.885\n",
       "agency_DEPT_OF_CITYWIDE_ADMIN_SVCS     2360.6298    240.879      9.800      0.000    1888.516    2832.744\n",
       "agency_DEPT_OF_ED_PARA_PROFESSIONALS  -2.948e+04    166.986   -176.551      0.000   -2.98e+04   -2.92e+04\n",
       "agency_DEPT_OF_ED_PEDAGOGICAL          2.052e+04    159.985    128.235      0.000    2.02e+04    2.08e+04\n",
       "agency_DEPT_OF_ENVIRONMENT_PROTECTION  6022.3063    199.111     30.246      0.000    5632.056    6412.557\n",
       "agency_DEPT_OF_HEALTH_MENTAL_HYGIENE   3810.7983    171.590     22.209      0.000    3474.487    4147.110\n",
       "agency_DEPT_OF_INFO_TECH___TELECOMM    2.098e+04    261.344     80.293      0.000    2.05e+04    2.15e+04\n",
       "agency_DEPT_OF_PARKS___RECREATION     -6339.2407    188.418    -33.645      0.000   -6708.534   -5969.948\n",
       "agency_DEPT_OF_RECORDS___INFO_SERVICE -6793.4710   1247.609     -5.445      0.000   -9238.742   -4348.200\n",
       "agency_DEPT_OF_YOUTH___COMM_DEV_SRVS    1.11e+04    422.133     26.290      0.000    1.03e+04    1.19e+04\n",
       "agency_DEPT_OF_DESIGN___CONSTRUCTION   1.413e+04    275.138     51.368      0.000    1.36e+04    1.47e+04\n",
       "agency_DEPT_OF_HOMELESS_SERVICES      -7141.9646    221.515    -32.242      0.000   -7576.125   -6707.804\n",
       "agency_DISTRICT_ATTORNEY_KINGS_COUNTY  5014.7548    297.548     16.854      0.000    4431.571    5597.939\n",
       "agency_DISTRICT_ATTORNEY_QNS_COUNTY    1.081e+04    366.081     29.540      0.000    1.01e+04    1.15e+04\n",
       "agency_DISTRICT_ATTORNEY_MANHATTAN     9058.5093    266.038     34.050      0.000    8537.084    9579.935\n",
       "agency_DISTRICT_ATTORNEY_SPECIAL_NARC  1.976e+04    627.779     31.473      0.000    1.85e+04     2.1e+04\n",
       "agency_EQUAL_EMPLOY_PRACTICES_COMM     1.684e+04   2813.877      5.983      0.000    1.13e+04    2.24e+04\n",
       "agency_FINANCIAL_INFO_SVCS_AGENCY      3.691e+04    443.173     83.277      0.000     3.6e+04    3.78e+04\n",
       "agency_FIRE_DEPARTMENT                 -301.8388    137.327     -2.198      0.028    -570.996     -32.682\n",
       "agency_GUTTMAN_COMMUNITY_COLLEGE       2.061e+04    723.763     28.481      0.000    1.92e+04     2.2e+04\n",
       "agency_HOUSING_PRESERVATION___DVLPMNT -4984.4502    220.374    -22.618      0.000   -5416.376   -4552.525\n",
       "agency_HRA_DEPT_OF_SOCIAL_SERVICES    -1.424e+04    138.059   -103.156      0.000   -1.45e+04    -1.4e+04\n",
       "agency_HUMAN_RIGHTS_COMMISSION         7756.9908    885.971      8.755      0.000    6020.519    9493.463\n",
       "agency_HUNTER_COLLEGE_HIGH_SCHOOL      2109.1874    683.230      3.087      0.002     770.079    3448.296\n",
       "agency_INDEPENDENT_BUDGET_OFFICE       3.086e+04   1518.362     20.322      0.000    2.79e+04    3.38e+04\n",
       "agency_LANDMARKS_PRESERVATION_COMM     2379.1855   1081.574      2.200      0.028     259.337    4499.034\n",
       "agency_LAW_DEPARTMENT                  1.148e+04    254.101     45.193      0.000     1.1e+04     1.2e+04\n",
       "agency_MAYORS_OFFICE_OF_CONTRACT_SVCS  2.097e+04    968.686     21.644      0.000    1.91e+04    2.29e+04\n",
       "agency_MUNICIPAL_WATER_FIN_AUTHORITY   2.702e+04   2443.821     11.055      0.000    2.22e+04    3.18e+04\n",
       "agency_NYC_DEPT_OF_VETERANS_SERVICES   2.567e+04   1933.418     13.278      0.000    2.19e+04    2.95e+04\n",
       "agency_NYC_EMPLOYEES_RETIREMENT_SYS    3185.4434    458.177      6.952      0.000    2287.432    4083.455\n",
       "agency_NYC_FIRE_PENSION_FUND           2.583e+04   2425.299     10.651      0.000    2.11e+04    3.06e+04\n",
       "agency_NYC_HOUSING_AUTHORITY          -1.154e+04    150.706    -76.602      0.000   -1.18e+04   -1.12e+04\n",
       "agency_NYC_POLICE_PENSION_FUND         7292.3564    769.702      9.474      0.000    5783.767    8800.946\n",
       "agency_OFF_OF_PAYROLL_ADMINISTRATION   1.389e+04    722.480     19.222      0.000    1.25e+04    1.53e+04\n",
       "agency_OFFICE_OF_COLLECTIVE_BARGAININ    4.4e+04   2189.803     20.092      0.000    3.97e+04    4.83e+04\n",
       "agency_OFFICE_OF_EMERGENCY_MANAGEMENT  2.587e+04    694.419     37.247      0.000    2.45e+04    2.72e+04\n",
       "agency_OFFICE_OF_LABOR_RELATIONS       6961.5731    802.796      8.672      0.000    5388.120    8535.027\n",
       "agency_OFFICE_OF_MANAGEMENT___BUDGET   1.944e+04    471.650     41.211      0.000    1.85e+04    2.04e+04\n",
       "agency_OFFICE_OF_THE_ACTUARY           3.203e+04   1432.450     22.363      0.000    2.92e+04    3.48e+04\n",
       "agency_OFFICE_OF_THE_COMPTROLLER       1.151e+04    345.831     33.271      0.000    1.08e+04    1.22e+04\n",
       "agency_OFFICE_OF_THE_MAYOR              3.19e+04    424.884     75.068      0.000    3.11e+04    3.27e+04\n",
       "agency_POLICE_DEPARTMENT               -451.9704    122.003     -3.705      0.000    -691.092    -212.849\n",
       "agency_PRESIDENT_BOROUGH_OF_MANHATTAN  6782.3114   1230.824      5.510      0.000    4369.938    9194.684\n",
       "agency_PUBLIC_ADMINISTRATOR_BRONX      5979.3958   3282.521      1.822      0.069    -454.233    1.24e+04\n",
       "agency_PUBLIC_ADMINISTRATOR_KINGS       797.7905   2587.056      0.308      0.758   -4272.751    5868.332\n",
       "agency_PUBLIC_ADMINISTRATOR_NEW_YORK  -1.269e+04   2785.659     -4.555      0.000   -1.81e+04   -7228.430\n",
       "agency_PUBLIC_ADMINISTRATOR_QUEENS      719.6910   3153.828      0.228      0.819   -5461.704    6901.086\n",
       "agency_PUBLIC_ADVOCATE                 1.277e+04   1463.581      8.725      0.000    9900.722    1.56e+04\n",
       "agency_TAX_COMMISSION                  2.386e+04   1410.512     16.917      0.000    2.11e+04    2.66e+04\n",
       "agency_TAXI___LIMOUSINE_COMMISSION    -6255.3982    403.651    -15.497      0.000   -7046.540   -5464.257\n",
       "agency_TEACHERS_RETIREMENT_SYSTEM      8923.2231    482.102     18.509      0.000    7978.321    9868.126\n",
       "Regular_Hours_scaled                   4278.8432     61.266     69.840      0.000    4158.764    4398.922\n",
       "OT_Hours_scaled                       -2.016e+04     44.968   -448.426      0.000   -2.03e+04   -2.01e+04\n",
       "Total_OT_Paid_scaled                   2.166e+04     44.705    484.405      0.000    2.16e+04    2.17e+04\n",
       "years_with_city_scaled                 7689.1567     17.946    428.465      0.000    7653.984    7724.330\n",
       "==============================================================================\n",
       "Omnibus:                   509649.634   Durbin-Watson:                   1.337\n",
       "Prob(Omnibus):                  0.000   Jarque-Bera (JB):          3753820.244\n",
       "Skew:                           1.597   Prob(JB):                         0.00\n",
       "Kurtosis:                      10.431   Cond. No.                     2.90e+06\n",
       "==============================================================================\n",
       "\n",
       "Warnings:\n",
       "[1] Standard Errors assume that the covariance matrix of the errors is correctly specified.\n",
       "[2] The condition number is large, 2.9e+06. This might indicate that there are\n",
       "strong multicollinearity or other numerical problems.\n",
       "\"\"\""
      ]
     },
     "execution_count": 32,
     "metadata": {},
     "output_type": "execute_result"
    }
   ],
   "source": [
    "Slr_model=ols(formula = featuresScaled, data=df).fit()\n",
    "Slr_model.summary()"
   ]
  },
  {
   "cell_type": "markdown",
   "metadata": {},
   "source": [
    "## Check to transform data"
   ]
  },
  {
   "cell_type": "code",
   "execution_count": 33,
   "metadata": {},
   "outputs": [
    {
     "data": {
      "image/png": "[encoded data removed]",
      "text/plain": [
       "<Figure size 432x288 with 1 Axes>"
      ]
     },
     "metadata": {
      "needs_background": "light"
     },
     "output_type": "display_data"
    }
   ],
   "source": [
    "sns.residplot(df['Regular_Hours_scaled'],  np.log(df['Base_Salary']));\n"
   ]
  },
  {
   "cell_type": "code",
   "execution_count": 34,
   "metadata": {},
   "outputs": [
    {
     "data": {
      "image/png": "[encoded data removed]",
      "text/plain": [
       "<Figure size 432x288 with 1 Axes>"
      ]
     },
     "metadata": {
      "needs_background": "light"
     },
     "output_type": "display_data"
    }
   ],
   "source": [
    "sns.residplot( df['years_with_city_scaled'], np.log(df['Base_Salary']));\n"
   ]
  },
  {
   "cell_type": "code",
   "execution_count": 35,
   "metadata": {},
   "outputs": [
    {
     "data": {
      "image/png": "[encoded data removed]",
      "text/plain": [
       "<Figure size 432x288 with 1 Axes>"
      ]
     },
     "metadata": {
      "needs_background": "light"
     },
     "output_type": "display_data"
    }
   ],
   "source": [
    "sns.residplot(df['Total_OT_Paid_scaled'],  np.log(df['Base_Salary']));\n"
   ]
  },
  {
   "cell_type": "code",
   "execution_count": 36,
   "metadata": {},
   "outputs": [
    {
     "data": {
      "image/png": "[encoded data removed]",
      "text/plain": [
       "<Figure size 432x288 with 1 Axes>"
      ]
     },
     "metadata": {
      "needs_background": "light"
     },
     "output_type": "display_data"
    }
   ],
   "source": [
    "sns.residplot(df['OT_Hours_scaled'], np.log(df['Base_Salary']));\n"
   ]
  },
  {
   "cell_type": "code",
   "execution_count": 37,
   "metadata": {},
   "outputs": [],
   "source": [
    "# log base_salary after looking at scaled continuous variables\n",
    "df['Base_Salary'] = np.log(df['Base_Salary'])"
   ]
  },
  {
   "cell_type": "code",
   "execution_count": 38,
   "metadata": {},
   "outputs": [
    {
     "data": {
      "text/html": [
       "<table class=\"simpletable\">\n",
       "<caption>OLS Regression Results</caption>\n",
       "<tr>\n",
       "  <th>Dep. Variable:</th>       <td>Base_Salary</td>   <th>  R-squared:         </th> <td>   0.600</td> \n",
       "</tr>\n",
       "<tr>\n",
       "  <th>Model:</th>                   <td>OLS</td>       <th>  Adj. R-squared:    </th> <td>   0.600</td> \n",
       "</tr>\n",
       "<tr>\n",
       "  <th>Method:</th>             <td>Least Squares</td>  <th>  F-statistic:       </th> <td>2.218e+04</td>\n",
       "</tr>\n",
       "<tr>\n",
       "  <th>Date:</th>             <td>Tue, 25 Feb 2020</td> <th>  Prob (F-statistic):</th>  <td>  0.00</td>  \n",
       "</tr>\n",
       "<tr>\n",
       "  <th>Time:</th>                 <td>15:52:10</td>     <th>  Log-Likelihood:    </th> <td> -72142.</td> \n",
       "</tr>\n",
       "<tr>\n",
       "  <th>No. Observations:</th>      <td>1377321</td>     <th>  AIC:               </th> <td>1.445e+05</td>\n",
       "</tr>\n",
       "<tr>\n",
       "  <th>Df Residuals:</th>          <td>1377227</td>     <th>  BIC:               </th> <td>1.456e+05</td>\n",
       "</tr>\n",
       "<tr>\n",
       "  <th>Df Model:</th>              <td>    93</td>      <th>                     </th>     <td> </td>    \n",
       "</tr>\n",
       "<tr>\n",
       "  <th>Covariance Type:</th>      <td>nonrobust</td>    <th>                     </th>     <td> </td>    \n",
       "</tr>\n",
       "</table>\n",
       "<table class=\"simpletable\">\n",
       "<tr>\n",
       "                    <td></td>                       <th>coef</th>     <th>std err</th>      <th>t</th>      <th>P>|t|</th>  <th>[0.025</th>    <th>0.975]</th>  \n",
       "</tr>\n",
       "<tr>\n",
       "  <th>Intercept</th>                             <td>  -46.8132</td> <td>    0.312</td> <td> -150.111</td> <td> 0.000</td> <td>  -47.424</td> <td>  -46.202</td>\n",
       "</tr>\n",
       "<tr>\n",
       "  <th>Fiscal_Year</th>                           <td>    0.0287</td> <td>    0.000</td> <td>  185.439</td> <td> 0.000</td> <td>    0.028</td> <td>    0.029</td>\n",
       "</tr>\n",
       "<tr>\n",
       "  <th>borough_2</th>                             <td>    0.0133</td> <td>    0.001</td> <td>   12.658</td> <td> 0.000</td> <td>    0.011</td> <td>    0.015</td>\n",
       "</tr>\n",
       "<tr>\n",
       "  <th>borough_3</th>                             <td>    0.0618</td> <td>    0.001</td> <td>   62.132</td> <td> 0.000</td> <td>    0.060</td> <td>    0.064</td>\n",
       "</tr>\n",
       "<tr>\n",
       "  <th>borough_4</th>                             <td>    0.0119</td> <td>    0.001</td> <td>   10.993</td> <td> 0.000</td> <td>    0.010</td> <td>    0.014</td>\n",
       "</tr>\n",
       "<tr>\n",
       "  <th>agency_ADMIN_TRIALS_AND_HEARINGS</th>      <td>    0.0301</td> <td>    0.007</td> <td>    4.190</td> <td> 0.000</td> <td>    0.016</td> <td>    0.044</td>\n",
       "</tr>\n",
       "<tr>\n",
       "  <th>agency_BOARD_OF_CORRECTION</th>            <td>    0.1396</td> <td>    0.024</td> <td>    5.755</td> <td> 0.000</td> <td>    0.092</td> <td>    0.187</td>\n",
       "</tr>\n",
       "<tr>\n",
       "  <th>agency_BOARD_OF_ELECTION</th>              <td>   -0.1150</td> <td>    0.006</td> <td>  -20.457</td> <td> 0.000</td> <td>   -0.126</td> <td>   -0.104</td>\n",
       "</tr>\n",
       "<tr>\n",
       "  <th>agency_BOROUGH_PRESIDENT_BRONX</th>        <td>    0.0966</td> <td>    0.016</td> <td>    6.133</td> <td> 0.000</td> <td>    0.066</td> <td>    0.127</td>\n",
       "</tr>\n",
       "<tr>\n",
       "  <th>agency_BOROUGH_PRESIDENT_BROOKLYN</th>     <td>    0.0889</td> <td>    0.015</td> <td>    6.032</td> <td> 0.000</td> <td>    0.060</td> <td>    0.118</td>\n",
       "</tr>\n",
       "<tr>\n",
       "  <th>agency_BOROUGH_PRESIDENT_QUEENS</th>       <td>    0.0409</td> <td>    0.015</td> <td>    2.674</td> <td> 0.007</td> <td>    0.011</td> <td>    0.071</td>\n",
       "</tr>\n",
       "<tr>\n",
       "  <th>agency_BRONX_DISTRICT_ATTORNEY</th>        <td>   -0.0078</td> <td>    0.004</td> <td>   -1.919</td> <td> 0.055</td> <td>   -0.016</td> <td>    0.000</td>\n",
       "</tr>\n",
       "<tr>\n",
       "  <th>agency_BUSINESS_INTEGRITY_COMMISSION</th>  <td>    0.0391</td> <td>    0.013</td> <td>    2.971</td> <td> 0.003</td> <td>    0.013</td> <td>    0.065</td>\n",
       "</tr>\n",
       "<tr>\n",
       "  <th>agency_CAMPAIGN_FINANCE_BOARD</th>         <td>    0.2146</td> <td>    0.012</td> <td>   17.868</td> <td> 0.000</td> <td>    0.191</td> <td>    0.238</td>\n",
       "</tr>\n",
       "<tr>\n",
       "  <th>agency_CITY_CLERK</th>                     <td>   -0.2197</td> <td>    0.014</td> <td>  -15.234</td> <td> 0.000</td> <td>   -0.248</td> <td>   -0.191</td>\n",
       "</tr>\n",
       "<tr>\n",
       "  <th>agency_CITY_COUNCIL</th>                   <td>    0.2569</td> <td>    0.006</td> <td>   40.233</td> <td> 0.000</td> <td>    0.244</td> <td>    0.269</td>\n",
       "</tr>\n",
       "<tr>\n",
       "  <th>agency_CIVIL_SERVICE_COMMISSION</th>       <td>    0.0864</td> <td>    0.041</td> <td>    2.087</td> <td> 0.037</td> <td>    0.005</td> <td>    0.168</td>\n",
       "</tr>\n",
       "<tr>\n",
       "  <th>agency_CIVILIAN_COMPLAINT_REVIEW_BD</th>   <td>    0.0843</td> <td>    0.009</td> <td>    9.135</td> <td> 0.000</td> <td>    0.066</td> <td>    0.102</td>\n",
       "</tr>\n",
       "<tr>\n",
       "  <th>agency_COMMUNITY_COLLEGE_BRONX</th>        <td>    0.0536</td> <td>    0.004</td> <td>   12.575</td> <td> 0.000</td> <td>    0.045</td> <td>    0.062</td>\n",
       "</tr>\n",
       "<tr>\n",
       "  <th>agency_COMMUNITY_COLLEGE_HOSTOS</th>       <td>    0.0571</td> <td>    0.005</td> <td>   11.393</td> <td> 0.000</td> <td>    0.047</td> <td>    0.067</td>\n",
       "</tr>\n",
       "<tr>\n",
       "  <th>agency_COMMUNITY_COLLEGE_KINGSBORO</th>    <td>    0.0503</td> <td>    0.004</td> <td>   12.014</td> <td> 0.000</td> <td>    0.042</td> <td>    0.059</td>\n",
       "</tr>\n",
       "<tr>\n",
       "  <th>agency_COMMUNITY_COLLEGE_LAGUARDIA</th>    <td>    0.1054</td> <td>    0.004</td> <td>   27.587</td> <td> 0.000</td> <td>    0.098</td> <td>    0.113</td>\n",
       "</tr>\n",
       "<tr>\n",
       "  <th>agency_COMMUNITY_COLLEGE_MANHATTAN</th>    <td>    0.0358</td> <td>    0.004</td> <td>   10.105</td> <td> 0.000</td> <td>    0.029</td> <td>    0.043</td>\n",
       "</tr>\n",
       "<tr>\n",
       "  <th>agency_COMMUNITY_COLLEGE_QUEENSBORO</th>   <td>    0.1040</td> <td>    0.004</td> <td>   25.549</td> <td> 0.000</td> <td>    0.096</td> <td>    0.112</td>\n",
       "</tr>\n",
       "<tr>\n",
       "  <th>agency_CONFLICTS_OF_INTEREST_BOARD</th>    <td>    0.2826</td> <td>    0.024</td> <td>   11.914</td> <td> 0.000</td> <td>    0.236</td> <td>    0.329</td>\n",
       "</tr>\n",
       "<tr>\n",
       "  <th>agency_CONSUMER_AFFAIRS</th>               <td>   -0.0888</td> <td>    0.006</td> <td>  -14.682</td> <td> 0.000</td> <td>   -0.101</td> <td>   -0.077</td>\n",
       "</tr>\n",
       "<tr>\n",
       "  <th>agency_CULTURAL_AFFAIRS</th>               <td>    0.1438</td> <td>    0.016</td> <td>    8.808</td> <td> 0.000</td> <td>    0.112</td> <td>    0.176</td>\n",
       "</tr>\n",
       "<tr>\n",
       "  <th>agency_CUNY_CENTRAL_OFFICE</th>            <td>    0.1222</td> <td>    0.021</td> <td>    5.718</td> <td> 0.000</td> <td>    0.080</td> <td>    0.164</td>\n",
       "</tr>\n",
       "<tr>\n",
       "  <th>agency_DEPARTMENT_FOR_THE_AGING</th>       <td>    0.0049</td> <td>    0.007</td> <td>    0.703</td> <td> 0.482</td> <td>   -0.009</td> <td>    0.018</td>\n",
       "</tr>\n",
       "<tr>\n",
       "  <th>agency_DEPARTMENT_OF_BUILDINGS</th>        <td>    0.0930</td> <td>    0.003</td> <td>   27.194</td> <td> 0.000</td> <td>    0.086</td> <td>    0.100</td>\n",
       "</tr>\n",
       "<tr>\n",
       "  <th>agency_DEPARTMENT_OF_BUSINESS_SERV</th>    <td>    0.1270</td> <td>    0.007</td> <td>   17.210</td> <td> 0.000</td> <td>    0.113</td> <td>    0.141</td>\n",
       "</tr>\n",
       "<tr>\n",
       "  <th>agency_DEPARTMENT_OF_CITY_PLANNING</th>    <td>    0.1475</td> <td>    0.007</td> <td>   20.605</td> <td> 0.000</td> <td>    0.133</td> <td>    0.162</td>\n",
       "</tr>\n",
       "<tr>\n",
       "  <th>agency_DEPARTMENT_OF_CORRECTION</th>       <td>    0.0127</td> <td>    0.002</td> <td>    6.575</td> <td> 0.000</td> <td>    0.009</td> <td>    0.016</td>\n",
       "</tr>\n",
       "<tr>\n",
       "  <th>agency_DEPARTMENT_OF_EDUCATION_ADMIN</th>  <td>   -0.0346</td> <td>    0.002</td> <td>  -18.729</td> <td> 0.000</td> <td>   -0.038</td> <td>   -0.031</td>\n",
       "</tr>\n",
       "<tr>\n",
       "  <th>agency_DEPARTMENT_OF_FINANCE</th>          <td>   -0.0115</td> <td>    0.003</td> <td>   -3.791</td> <td> 0.000</td> <td>   -0.018</td> <td>   -0.006</td>\n",
       "</tr>\n",
       "<tr>\n",
       "  <th>agency_DEPARTMENT_OF_INVESTIGATION</th>    <td>    0.1352</td> <td>    0.007</td> <td>   20.674</td> <td> 0.000</td> <td>    0.122</td> <td>    0.148</td>\n",
       "</tr>\n",
       "<tr>\n",
       "  <th>agency_DEPARTMENT_OF_PROBATION</th>        <td>   -0.1677</td> <td>    0.004</td> <td>  -41.831</td> <td> 0.000</td> <td>   -0.176</td> <td>   -0.160</td>\n",
       "</tr>\n",
       "<tr>\n",
       "  <th>agency_DEPARTMENT_OF_SANITATION</th>       <td>    0.0018</td> <td>    0.002</td> <td>    0.912</td> <td> 0.362</td> <td>   -0.002</td> <td>    0.006</td>\n",
       "</tr>\n",
       "<tr>\n",
       "  <th>agency_DEPARTMENT_OF_TRANSPORTATION</th>   <td>   -0.0222</td> <td>    0.003</td> <td>   -8.633</td> <td> 0.000</td> <td>   -0.027</td> <td>   -0.017</td>\n",
       "</tr>\n",
       "<tr>\n",
       "  <th>agency_DEPT_OF_CITYWIDE_ADMIN_SVCS</th>    <td>   -0.0394</td> <td>    0.003</td> <td>  -12.616</td> <td> 0.000</td> <td>   -0.045</td> <td>   -0.033</td>\n",
       "</tr>\n",
       "<tr>\n",
       "  <th>agency_DEPT_OF_ED_PARA_PROFESSIONALS</th>  <td>   -0.5439</td> <td>    0.002</td> <td> -251.400</td> <td> 0.000</td> <td>   -0.548</td> <td>   -0.540</td>\n",
       "</tr>\n",
       "<tr>\n",
       "  <th>agency_DEPT_OF_ED_PEDAGOGICAL</th>         <td>    0.3347</td> <td>    0.002</td> <td>  161.466</td> <td> 0.000</td> <td>    0.331</td> <td>    0.339</td>\n",
       "</tr>\n",
       "<tr>\n",
       "  <th>agency_DEPT_OF_ENVIRONMENT_PROTECTION</th> <td>    0.0588</td> <td>    0.003</td> <td>   22.792</td> <td> 0.000</td> <td>    0.054</td> <td>    0.064</td>\n",
       "</tr>\n",
       "<tr>\n",
       "  <th>agency_DEPT_OF_HEALTH_MENTAL_HYGIENE</th>  <td>    0.0360</td> <td>    0.002</td> <td>   16.211</td> <td> 0.000</td> <td>    0.032</td> <td>    0.040</td>\n",
       "</tr>\n",
       "<tr>\n",
       "  <th>agency_DEPT_OF_INFO_TECH___TELECOMM</th>   <td>    0.2193</td> <td>    0.003</td> <td>   64.766</td> <td> 0.000</td> <td>    0.213</td> <td>    0.226</td>\n",
       "</tr>\n",
       "<tr>\n",
       "  <th>agency_DEPT_OF_PARKS___RECREATION</th>     <td>   -0.1015</td> <td>    0.002</td> <td>  -41.573</td> <td> 0.000</td> <td>   -0.106</td> <td>   -0.097</td>\n",
       "</tr>\n",
       "<tr>\n",
       "  <th>agency_DEPT_OF_RECORDS___INFO_SERVICE</th> <td>   -0.1329</td> <td>    0.016</td> <td>   -8.220</td> <td> 0.000</td> <td>   -0.165</td> <td>   -0.101</td>\n",
       "</tr>\n",
       "<tr>\n",
       "  <th>agency_DEPT_OF_YOUTH___COMM_DEV_SRVS</th>  <td>    0.1558</td> <td>    0.005</td> <td>   28.490</td> <td> 0.000</td> <td>    0.145</td> <td>    0.167</td>\n",
       "</tr>\n",
       "<tr>\n",
       "  <th>agency_DEPT_OF_DESIGN___CONSTRUCTION</th>  <td>    0.1879</td> <td>    0.004</td> <td>   52.720</td> <td> 0.000</td> <td>    0.181</td> <td>    0.195</td>\n",
       "</tr>\n",
       "<tr>\n",
       "  <th>agency_DEPT_OF_HOMELESS_SERVICES</th>      <td>   -0.1533</td> <td>    0.003</td> <td>  -53.405</td> <td> 0.000</td> <td>   -0.159</td> <td>   -0.148</td>\n",
       "</tr>\n",
       "<tr>\n",
       "  <th>agency_DISTRICT_ATTORNEY_KINGS_COUNTY</th> <td>    0.0239</td> <td>    0.004</td> <td>    6.189</td> <td> 0.000</td> <td>    0.016</td> <td>    0.031</td>\n",
       "</tr>\n",
       "<tr>\n",
       "  <th>agency_DISTRICT_ATTORNEY_QNS_COUNTY</th>   <td>    0.0798</td> <td>    0.005</td> <td>   16.830</td> <td> 0.000</td> <td>    0.071</td> <td>    0.089</td>\n",
       "</tr>\n",
       "<tr>\n",
       "  <th>agency_DISTRICT_ATTORNEY_MANHATTAN</th>    <td>    0.0711</td> <td>    0.003</td> <td>   20.626</td> <td> 0.000</td> <td>    0.064</td> <td>    0.078</td>\n",
       "</tr>\n",
       "<tr>\n",
       "  <th>agency_DISTRICT_ATTORNEY_SPECIAL_NARC</th> <td>    0.2276</td> <td>    0.008</td> <td>   27.980</td> <td> 0.000</td> <td>    0.212</td> <td>    0.244</td>\n",
       "</tr>\n",
       "<tr>\n",
       "  <th>agency_EQUAL_EMPLOY_PRACTICES_COMM</th>    <td>    0.2253</td> <td>    0.036</td> <td>    6.180</td> <td> 0.000</td> <td>    0.154</td> <td>    0.297</td>\n",
       "</tr>\n",
       "<tr>\n",
       "  <th>agency_FINANCIAL_INFO_SVCS_AGENCY</th>     <td>    0.4262</td> <td>    0.006</td> <td>   74.229</td> <td> 0.000</td> <td>    0.415</td> <td>    0.437</td>\n",
       "</tr>\n",
       "<tr>\n",
       "  <th>agency_FIRE_DEPARTMENT</th>                <td>   -0.0504</td> <td>    0.002</td> <td>  -28.351</td> <td> 0.000</td> <td>   -0.054</td> <td>   -0.047</td>\n",
       "</tr>\n",
       "<tr>\n",
       "  <th>agency_GUTTMAN_COMMUNITY_COLLEGE</th>      <td>    0.2705</td> <td>    0.009</td> <td>   28.850</td> <td> 0.000</td> <td>    0.252</td> <td>    0.289</td>\n",
       "</tr>\n",
       "<tr>\n",
       "  <th>agency_HOUSING_PRESERVATION___DVLPMNT</th> <td>   -0.0715</td> <td>    0.003</td> <td>  -25.033</td> <td> 0.000</td> <td>   -0.077</td> <td>   -0.066</td>\n",
       "</tr>\n",
       "<tr>\n",
       "  <th>agency_HRA_DEPT_OF_SOCIAL_SERVICES</th>    <td>   -0.2316</td> <td>    0.002</td> <td> -129.477</td> <td> 0.000</td> <td>   -0.235</td> <td>   -0.228</td>\n",
       "</tr>\n",
       "<tr>\n",
       "  <th>agency_HUMAN_RIGHTS_COMMISSION</th>        <td>    0.0990</td> <td>    0.011</td> <td>    8.625</td> <td> 0.000</td> <td>    0.077</td> <td>    0.122</td>\n",
       "</tr>\n",
       "<tr>\n",
       "  <th>agency_HUNTER_COLLEGE_HIGH_SCHOOL</th>     <td>    0.0216</td> <td>    0.009</td> <td>    2.438</td> <td> 0.015</td> <td>    0.004</td> <td>    0.039</td>\n",
       "</tr>\n",
       "<tr>\n",
       "  <th>agency_INDEPENDENT_BUDGET_OFFICE</th>      <td>    0.3670</td> <td>    0.020</td> <td>   18.657</td> <td> 0.000</td> <td>    0.328</td> <td>    0.406</td>\n",
       "</tr>\n",
       "<tr>\n",
       "  <th>agency_LANDMARKS_PRESERVATION_COMM</th>    <td>    0.0307</td> <td>    0.014</td> <td>    2.192</td> <td> 0.028</td> <td>    0.003</td> <td>    0.058</td>\n",
       "</tr>\n",
       "<tr>\n",
       "  <th>agency_LAW_DEPARTMENT</th>                 <td>    0.1062</td> <td>    0.003</td> <td>   32.244</td> <td> 0.000</td> <td>    0.100</td> <td>    0.113</td>\n",
       "</tr>\n",
       "<tr>\n",
       "  <th>agency_MAYORS_OFFICE_OF_CONTRACT_SVCS</th> <td>    0.2592</td> <td>    0.013</td> <td>   20.653</td> <td> 0.000</td> <td>    0.235</td> <td>    0.284</td>\n",
       "</tr>\n",
       "<tr>\n",
       "  <th>agency_MUNICIPAL_WATER_FIN_AUTHORITY</th>  <td>    0.3070</td> <td>    0.032</td> <td>    9.697</td> <td> 0.000</td> <td>    0.245</td> <td>    0.369</td>\n",
       "</tr>\n",
       "<tr>\n",
       "  <th>agency_NYC_DEPT_OF_VETERANS_SERVICES</th>  <td>    0.3105</td> <td>    0.025</td> <td>   12.395</td> <td> 0.000</td> <td>    0.261</td> <td>    0.360</td>\n",
       "</tr>\n",
       "<tr>\n",
       "  <th>agency_NYC_EMPLOYEES_RETIREMENT_SYS</th>   <td>   -0.0009</td> <td>    0.006</td> <td>   -0.159</td> <td> 0.874</td> <td>   -0.013</td> <td>    0.011</td>\n",
       "</tr>\n",
       "<tr>\n",
       "  <th>agency_NYC_FIRE_PENSION_FUND</th>          <td>    0.2940</td> <td>    0.031</td> <td>    9.354</td> <td> 0.000</td> <td>    0.232</td> <td>    0.356</td>\n",
       "</tr>\n",
       "<tr>\n",
       "  <th>agency_NYC_HOUSING_AUTHORITY</th>          <td>   -0.2106</td> <td>    0.002</td> <td> -107.832</td> <td> 0.000</td> <td>   -0.214</td> <td>   -0.207</td>\n",
       "</tr>\n",
       "<tr>\n",
       "  <th>agency_NYC_POLICE_PENSION_FUND</th>        <td>    0.0329</td> <td>    0.010</td> <td>    3.296</td> <td> 0.001</td> <td>    0.013</td> <td>    0.052</td>\n",
       "</tr>\n",
       "<tr>\n",
       "  <th>agency_OFF_OF_PAYROLL_ADMINISTRATION</th>  <td>    0.1652</td> <td>    0.009</td> <td>   17.645</td> <td> 0.000</td> <td>    0.147</td> <td>    0.184</td>\n",
       "</tr>\n",
       "<tr>\n",
       "  <th>agency_OFFICE_OF_COLLECTIVE_BARGAININ</th> <td>    0.4499</td> <td>    0.028</td> <td>   15.857</td> <td> 0.000</td> <td>    0.394</td> <td>    0.506</td>\n",
       "</tr>\n",
       "<tr>\n",
       "  <th>agency_OFFICE_OF_EMERGENCY_MANAGEMENT</th> <td>    0.3333</td> <td>    0.009</td> <td>   37.043</td> <td> 0.000</td> <td>    0.316</td> <td>    0.351</td>\n",
       "</tr>\n",
       "<tr>\n",
       "  <th>agency_OFFICE_OF_LABOR_RELATIONS</th>      <td>    0.0259</td> <td>    0.010</td> <td>    2.489</td> <td> 0.013</td> <td>    0.006</td> <td>    0.046</td>\n",
       "</tr>\n",
       "<tr>\n",
       "  <th>agency_OFFICE_OF_MANAGEMENT___BUDGET</th>  <td>    0.2301</td> <td>    0.006</td> <td>   37.653</td> <td> 0.000</td> <td>    0.218</td> <td>    0.242</td>\n",
       "</tr>\n",
       "<tr>\n",
       "  <th>agency_OFFICE_OF_THE_ACTUARY</th>          <td>    0.2990</td> <td>    0.019</td> <td>   16.111</td> <td> 0.000</td> <td>    0.263</td> <td>    0.335</td>\n",
       "</tr>\n",
       "<tr>\n",
       "  <th>agency_OFFICE_OF_THE_COMPTROLLER</th>      <td>    0.1143</td> <td>    0.004</td> <td>   25.518</td> <td> 0.000</td> <td>    0.106</td> <td>    0.123</td>\n",
       "</tr>\n",
       "<tr>\n",
       "  <th>agency_OFFICE_OF_THE_MAYOR</th>            <td>    0.3442</td> <td>    0.006</td> <td>   62.530</td> <td> 0.000</td> <td>    0.333</td> <td>    0.355</td>\n",
       "</tr>\n",
       "<tr>\n",
       "  <th>agency_POLICE_DEPARTMENT</th>              <td>   -0.0529</td> <td>    0.002</td> <td>  -33.443</td> <td> 0.000</td> <td>   -0.056</td> <td>   -0.050</td>\n",
       "</tr>\n",
       "<tr>\n",
       "  <th>agency_PRESIDENT_BOROUGH_OF_MANHATTAN</th> <td>    0.0815</td> <td>    0.016</td> <td>    5.111</td> <td> 0.000</td> <td>    0.050</td> <td>    0.113</td>\n",
       "</tr>\n",
       "<tr>\n",
       "  <th>agency_PUBLIC_ADMINISTRATOR_BRONX</th>     <td>   -0.0082</td> <td>    0.043</td> <td>   -0.192</td> <td> 0.848</td> <td>   -0.092</td> <td>    0.075</td>\n",
       "</tr>\n",
       "<tr>\n",
       "  <th>agency_PUBLIC_ADMINISTRATOR_KINGS</th>     <td>   -0.1047</td> <td>    0.034</td> <td>   -3.123</td> <td> 0.002</td> <td>   -0.170</td> <td>   -0.039</td>\n",
       "</tr>\n",
       "<tr>\n",
       "  <th>agency_PUBLIC_ADMINISTRATOR_NEW_YORK</th>  <td>   -0.2591</td> <td>    0.036</td> <td>   -7.179</td> <td> 0.000</td> <td>   -0.330</td> <td>   -0.188</td>\n",
       "</tr>\n",
       "<tr>\n",
       "  <th>agency_PUBLIC_ADMINISTRATOR_QUEENS</th>    <td>   -0.1292</td> <td>    0.041</td> <td>   -3.162</td> <td> 0.002</td> <td>   -0.209</td> <td>   -0.049</td>\n",
       "</tr>\n",
       "<tr>\n",
       "  <th>agency_PUBLIC_ADVOCATE</th>                <td>    0.1558</td> <td>    0.019</td> <td>    8.218</td> <td> 0.000</td> <td>    0.119</td> <td>    0.193</td>\n",
       "</tr>\n",
       "<tr>\n",
       "  <th>agency_TAX_COMMISSION</th>                 <td>    0.2632</td> <td>    0.018</td> <td>   14.401</td> <td> 0.000</td> <td>    0.227</td> <td>    0.299</td>\n",
       "</tr>\n",
       "<tr>\n",
       "  <th>agency_TAXI___LIMOUSINE_COMMISSION</th>    <td>   -0.1412</td> <td>    0.005</td> <td>  -26.995</td> <td> 0.000</td> <td>   -0.151</td> <td>   -0.131</td>\n",
       "</tr>\n",
       "<tr>\n",
       "  <th>agency_TEACHERS_RETIREMENT_SYSTEM</th>     <td>    0.0798</td> <td>    0.006</td> <td>   12.777</td> <td> 0.000</td> <td>    0.068</td> <td>    0.092</td>\n",
       "</tr>\n",
       "<tr>\n",
       "  <th>Regular_Hours_scaled</th>                  <td>    0.0789</td> <td>    0.001</td> <td>   99.345</td> <td> 0.000</td> <td>    0.077</td> <td>    0.080</td>\n",
       "</tr>\n",
       "<tr>\n",
       "  <th>OT_Hours_scaled</th>                       <td>   -0.3006</td> <td>    0.001</td> <td> -515.938</td> <td> 0.000</td> <td>   -0.302</td> <td>   -0.299</td>\n",
       "</tr>\n",
       "<tr>\n",
       "  <th>Total_OT_Paid_scaled</th>                  <td>    0.3344</td> <td>    0.001</td> <td>  577.362</td> <td> 0.000</td> <td>    0.333</td> <td>    0.336</td>\n",
       "</tr>\n",
       "<tr>\n",
       "  <th>years_with_city_scaled</th>                <td>    0.1010</td> <td>    0.000</td> <td>  434.240</td> <td> 0.000</td> <td>    0.101</td> <td>    0.101</td>\n",
       "</tr>\n",
       "</table>\n",
       "<table class=\"simpletable\">\n",
       "<tr>\n",
       "  <th>Omnibus:</th>       <td>81766.426</td> <th>  Durbin-Watson:     </th>  <td>   1.416</td> \n",
       "</tr>\n",
       "<tr>\n",
       "  <th>Prob(Omnibus):</th>  <td> 0.000</td>   <th>  Jarque-Bera (JB):  </th> <td>239651.117</td>\n",
       "</tr>\n",
       "<tr>\n",
       "  <th>Skew:</th>           <td> 0.300</td>   <th>  Prob(JB):          </th>  <td>    0.00</td> \n",
       "</tr>\n",
       "<tr>\n",
       "  <th>Kurtosis:</th>       <td> 4.953</td>   <th>  Cond. No.          </th>  <td>2.90e+06</td> \n",
       "</tr>\n",
       "</table><br/><br/>Warnings:<br/>[1] Standard Errors assume that the covariance matrix of the errors is correctly specified.<br/>[2] The condition number is large, 2.9e+06. This might indicate that there are<br/>strong multicollinearity or other numerical problems."
      ],
      "text/plain": [
       "<class 'statsmodels.iolib.summary.Summary'>\n",
       "\"\"\"\n",
       "                            OLS Regression Results                            \n",
       "==============================================================================\n",
       "Dep. Variable:            Base_Salary   R-squared:                       0.600\n",
       "Model:                            OLS   Adj. R-squared:                  0.600\n",
       "Method:                 Least Squares   F-statistic:                 2.218e+04\n",
       "Date:                Tue, 25 Feb 2020   Prob (F-statistic):               0.00\n",
       "Time:                        15:52:10   Log-Likelihood:                -72142.\n",
       "No. Observations:             1377321   AIC:                         1.445e+05\n",
       "Df Residuals:                 1377227   BIC:                         1.456e+05\n",
       "Df Model:                          93                                         \n",
       "Covariance Type:            nonrobust                                         \n",
       "=========================================================================================================\n",
       "                                            coef    std err          t      P>|t|      [0.025      0.975]\n",
       "---------------------------------------------------------------------------------------------------------\n",
       "Intercept                               -46.8132      0.312   -150.111      0.000     -47.424     -46.202\n",
       "Fiscal_Year                               0.0287      0.000    185.439      0.000       0.028       0.029\n",
       "borough_2                                 0.0133      0.001     12.658      0.000       0.011       0.015\n",
       "borough_3                                 0.0618      0.001     62.132      0.000       0.060       0.064\n",
       "borough_4                                 0.0119      0.001     10.993      0.000       0.010       0.014\n",
       "agency_ADMIN_TRIALS_AND_HEARINGS          0.0301      0.007      4.190      0.000       0.016       0.044\n",
       "agency_BOARD_OF_CORRECTION                0.1396      0.024      5.755      0.000       0.092       0.187\n",
       "agency_BOARD_OF_ELECTION                 -0.1150      0.006    -20.457      0.000      -0.126      -0.104\n",
       "agency_BOROUGH_PRESIDENT_BRONX            0.0966      0.016      6.133      0.000       0.066       0.127\n",
       "agency_BOROUGH_PRESIDENT_BROOKLYN         0.0889      0.015      6.032      0.000       0.060       0.118\n",
       "agency_BOROUGH_PRESIDENT_QUEENS           0.0409      0.015      2.674      0.007       0.011       0.071\n",
       "agency_BRONX_DISTRICT_ATTORNEY           -0.0078      0.004     -1.919      0.055      -0.016       0.000\n",
       "agency_BUSINESS_INTEGRITY_COMMISSION      0.0391      0.013      2.971      0.003       0.013       0.065\n",
       "agency_CAMPAIGN_FINANCE_BOARD             0.2146      0.012     17.868      0.000       0.191       0.238\n",
       "agency_CITY_CLERK                        -0.2197      0.014    -15.234      0.000      -0.248      -0.191\n",
       "agency_CITY_COUNCIL                       0.2569      0.006     40.233      0.000       0.244       0.269\n",
       "agency_CIVIL_SERVICE_COMMISSION           0.0864      0.041      2.087      0.037       0.005       0.168\n",
       "agency_CIVILIAN_COMPLAINT_REVIEW_BD       0.0843      0.009      9.135      0.000       0.066       0.102\n",
       "agency_COMMUNITY_COLLEGE_BRONX            0.0536      0.004     12.575      0.000       0.045       0.062\n",
       "agency_COMMUNITY_COLLEGE_HOSTOS           0.0571      0.005     11.393      0.000       0.047       0.067\n",
       "agency_COMMUNITY_COLLEGE_KINGSBORO        0.0503      0.004     12.014      0.000       0.042       0.059\n",
       "agency_COMMUNITY_COLLEGE_LAGUARDIA        0.1054      0.004     27.587      0.000       0.098       0.113\n",
       "agency_COMMUNITY_COLLEGE_MANHATTAN        0.0358      0.004     10.105      0.000       0.029       0.043\n",
       "agency_COMMUNITY_COLLEGE_QUEENSBORO       0.1040      0.004     25.549      0.000       0.096       0.112\n",
       "agency_CONFLICTS_OF_INTEREST_BOARD        0.2826      0.024     11.914      0.000       0.236       0.329\n",
       "agency_CONSUMER_AFFAIRS                  -0.0888      0.006    -14.682      0.000      -0.101      -0.077\n",
       "agency_CULTURAL_AFFAIRS                   0.1438      0.016      8.808      0.000       0.112       0.176\n",
       "agency_CUNY_CENTRAL_OFFICE                0.1222      0.021      5.718      0.000       0.080       0.164\n",
       "agency_DEPARTMENT_FOR_THE_AGING           0.0049      0.007      0.703      0.482      -0.009       0.018\n",
       "agency_DEPARTMENT_OF_BUILDINGS            0.0930      0.003     27.194      0.000       0.086       0.100\n",
       "agency_DEPARTMENT_OF_BUSINESS_SERV        0.1270      0.007     17.210      0.000       0.113       0.141\n",
       "agency_DEPARTMENT_OF_CITY_PLANNING        0.1475      0.007     20.605      0.000       0.133       0.162\n",
       "agency_DEPARTMENT_OF_CORRECTION           0.0127      0.002      6.575      0.000       0.009       0.016\n",
       "agency_DEPARTMENT_OF_EDUCATION_ADMIN     -0.0346      0.002    -18.729      0.000      -0.038      -0.031\n",
       "agency_DEPARTMENT_OF_FINANCE             -0.0115      0.003     -3.791      0.000      -0.018      -0.006\n",
       "agency_DEPARTMENT_OF_INVESTIGATION        0.1352      0.007     20.674      0.000       0.122       0.148\n",
       "agency_DEPARTMENT_OF_PROBATION           -0.1677      0.004    -41.831      0.000      -0.176      -0.160\n",
       "agency_DEPARTMENT_OF_SANITATION           0.0018      0.002      0.912      0.362      -0.002       0.006\n",
       "agency_DEPARTMENT_OF_TRANSPORTATION      -0.0222      0.003     -8.633      0.000      -0.027      -0.017\n",
       "agency_DEPT_OF_CITYWIDE_ADMIN_SVCS       -0.0394      0.003    -12.616      0.000      -0.045      -0.033\n",
       "agency_DEPT_OF_ED_PARA_PROFESSIONALS     -0.5439      0.002   -251.400      0.000      -0.548      -0.540\n",
       "agency_DEPT_OF_ED_PEDAGOGICAL             0.3347      0.002    161.466      0.000       0.331       0.339\n",
       "agency_DEPT_OF_ENVIRONMENT_PROTECTION     0.0588      0.003     22.792      0.000       0.054       0.064\n",
       "agency_DEPT_OF_HEALTH_MENTAL_HYGIENE      0.0360      0.002     16.211      0.000       0.032       0.040\n",
       "agency_DEPT_OF_INFO_TECH___TELECOMM       0.2193      0.003     64.766      0.000       0.213       0.226\n",
       "agency_DEPT_OF_PARKS___RECREATION        -0.1015      0.002    -41.573      0.000      -0.106      -0.097\n",
       "agency_DEPT_OF_RECORDS___INFO_SERVICE    -0.1329      0.016     -8.220      0.000      -0.165      -0.101\n",
       "agency_DEPT_OF_YOUTH___COMM_DEV_SRVS      0.1558      0.005     28.490      0.000       0.145       0.167\n",
       "agency_DEPT_OF_DESIGN___CONSTRUCTION      0.1879      0.004     52.720      0.000       0.181       0.195\n",
       "agency_DEPT_OF_HOMELESS_SERVICES         -0.1533      0.003    -53.405      0.000      -0.159      -0.148\n",
       "agency_DISTRICT_ATTORNEY_KINGS_COUNTY     0.0239      0.004      6.189      0.000       0.016       0.031\n",
       "agency_DISTRICT_ATTORNEY_QNS_COUNTY       0.0798      0.005     16.830      0.000       0.071       0.089\n",
       "agency_DISTRICT_ATTORNEY_MANHATTAN        0.0711      0.003     20.626      0.000       0.064       0.078\n",
       "agency_DISTRICT_ATTORNEY_SPECIAL_NARC     0.2276      0.008     27.980      0.000       0.212       0.244\n",
       "agency_EQUAL_EMPLOY_PRACTICES_COMM        0.2253      0.036      6.180      0.000       0.154       0.297\n",
       "agency_FINANCIAL_INFO_SVCS_AGENCY         0.4262      0.006     74.229      0.000       0.415       0.437\n",
       "agency_FIRE_DEPARTMENT                   -0.0504      0.002    -28.351      0.000      -0.054      -0.047\n",
       "agency_GUTTMAN_COMMUNITY_COLLEGE          0.2705      0.009     28.850      0.000       0.252       0.289\n",
       "agency_HOUSING_PRESERVATION___DVLPMNT    -0.0715      0.003    -25.033      0.000      -0.077      -0.066\n",
       "agency_HRA_DEPT_OF_SOCIAL_SERVICES       -0.2316      0.002   -129.477      0.000      -0.235      -0.228\n",
       "agency_HUMAN_RIGHTS_COMMISSION            0.0990      0.011      8.625      0.000       0.077       0.122\n",
       "agency_HUNTER_COLLEGE_HIGH_SCHOOL         0.0216      0.009      2.438      0.015       0.004       0.039\n",
       "agency_INDEPENDENT_BUDGET_OFFICE          0.3670      0.020     18.657      0.000       0.328       0.406\n",
       "agency_LANDMARKS_PRESERVATION_COMM        0.0307      0.014      2.192      0.028       0.003       0.058\n",
       "agency_LAW_DEPARTMENT                     0.1062      0.003     32.244      0.000       0.100       0.113\n",
       "agency_MAYORS_OFFICE_OF_CONTRACT_SVCS     0.2592      0.013     20.653      0.000       0.235       0.284\n",
       "agency_MUNICIPAL_WATER_FIN_AUTHORITY      0.3070      0.032      9.697      0.000       0.245       0.369\n",
       "agency_NYC_DEPT_OF_VETERANS_SERVICES      0.3105      0.025     12.395      0.000       0.261       0.360\n",
       "agency_NYC_EMPLOYEES_RETIREMENT_SYS      -0.0009      0.006     -0.159      0.874      -0.013       0.011\n",
       "agency_NYC_FIRE_PENSION_FUND              0.2940      0.031      9.354      0.000       0.232       0.356\n",
       "agency_NYC_HOUSING_AUTHORITY             -0.2106      0.002   -107.832      0.000      -0.214      -0.207\n",
       "agency_NYC_POLICE_PENSION_FUND            0.0329      0.010      3.296      0.001       0.013       0.052\n",
       "agency_OFF_OF_PAYROLL_ADMINISTRATION      0.1652      0.009     17.645      0.000       0.147       0.184\n",
       "agency_OFFICE_OF_COLLECTIVE_BARGAININ     0.4499      0.028     15.857      0.000       0.394       0.506\n",
       "agency_OFFICE_OF_EMERGENCY_MANAGEMENT     0.3333      0.009     37.043      0.000       0.316       0.351\n",
       "agency_OFFICE_OF_LABOR_RELATIONS          0.0259      0.010      2.489      0.013       0.006       0.046\n",
       "agency_OFFICE_OF_MANAGEMENT___BUDGET      0.2301      0.006     37.653      0.000       0.218       0.242\n",
       "agency_OFFICE_OF_THE_ACTUARY              0.2990      0.019     16.111      0.000       0.263       0.335\n",
       "agency_OFFICE_OF_THE_COMPTROLLER          0.1143      0.004     25.518      0.000       0.106       0.123\n",
       "agency_OFFICE_OF_THE_MAYOR                0.3442      0.006     62.530      0.000       0.333       0.355\n",
       "agency_POLICE_DEPARTMENT                 -0.0529      0.002    -33.443      0.000      -0.056      -0.050\n",
       "agency_PRESIDENT_BOROUGH_OF_MANHATTAN     0.0815      0.016      5.111      0.000       0.050       0.113\n",
       "agency_PUBLIC_ADMINISTRATOR_BRONX        -0.0082      0.043     -0.192      0.848      -0.092       0.075\n",
       "agency_PUBLIC_ADMINISTRATOR_KINGS        -0.1047      0.034     -3.123      0.002      -0.170      -0.039\n",
       "agency_PUBLIC_ADMINISTRATOR_NEW_YORK     -0.2591      0.036     -7.179      0.000      -0.330      -0.188\n",
       "agency_PUBLIC_ADMINISTRATOR_QUEENS       -0.1292      0.041     -3.162      0.002      -0.209      -0.049\n",
       "agency_PUBLIC_ADVOCATE                    0.1558      0.019      8.218      0.000       0.119       0.193\n",
       "agency_TAX_COMMISSION                     0.2632      0.018     14.401      0.000       0.227       0.299\n",
       "agency_TAXI___LIMOUSINE_COMMISSION       -0.1412      0.005    -26.995      0.000      -0.151      -0.131\n",
       "agency_TEACHERS_RETIREMENT_SYSTEM         0.0798      0.006     12.777      0.000       0.068       0.092\n",
       "Regular_Hours_scaled                      0.0789      0.001     99.345      0.000       0.077       0.080\n",
       "OT_Hours_scaled                          -0.3006      0.001   -515.938      0.000      -0.302      -0.299\n",
       "Total_OT_Paid_scaled                      0.3344      0.001    577.362      0.000       0.333       0.336\n",
       "years_with_city_scaled                    0.1010      0.000    434.240      0.000       0.101       0.101\n",
       "==============================================================================\n",
       "Omnibus:                    81766.426   Durbin-Watson:                   1.416\n",
       "Prob(Omnibus):                  0.000   Jarque-Bera (JB):           239651.117\n",
       "Skew:                           0.300   Prob(JB):                         0.00\n",
       "Kurtosis:                       4.953   Cond. No.                     2.90e+06\n",
       "==============================================================================\n",
       "\n",
       "Warnings:\n",
       "[1] Standard Errors assume that the covariance matrix of the errors is correctly specified.\n",
       "[2] The condition number is large, 2.9e+06. This might indicate that there are\n",
       "strong multicollinearity or other numerical problems.\n",
       "\"\"\""
      ]
     },
     "execution_count": 38,
     "metadata": {},
     "output_type": "execute_result"
    }
   ],
   "source": [
    "# look at scaled/logged df\n",
    "Log_Slr_model=ols(formula = featuresScaled, data=df).fit()\n",
    "Log_Slr_model.summary()"
   ]
  },
  {
   "cell_type": "markdown",
   "metadata": {},
   "source": [
    "## Model Evaluation"
   ]
  },
  {
   "cell_type": "code",
   "execution_count": 58,
   "metadata": {},
   "outputs": [],
   "source": [
    "# test train split\n",
    "y = df['Base_Salary']\n",
    "x = df.drop(['Base_Salary', 'Regular_Hours', 'OT_Hours', 'Total_OT_Paid', 'years_with_city'], axis=1)\n",
    "\n",
    "x_train , x_test, y_train, y_test = train_test_split(x, y, test_size=0.2, random_state=12)"
   ]
  },
  {
   "cell_type": "code",
   "execution_count": 40,
   "metadata": {},
   "outputs": [
    {
     "data": {
      "text/plain": [
       "LinearRegression(copy_X=True, fit_intercept=True, n_jobs=None, normalize=False)"
      ]
     },
     "execution_count": 40,
     "metadata": {},
     "output_type": "execute_result"
    }
   ],
   "source": [
    "# ridge, lasso , lin reg\n",
    "ridge_01 = Ridge(alpha=0.1)\n",
    "ridge_01.fit(x_train, y_train)\n",
    "\n",
    "lasso_01 = Lasso(alpha=0.1)\n",
    "lasso_01.fit(x_train, y_train)\n",
    "\n",
    "lin = LinearRegression()\n",
    "lin.fit(x_train, y_train)"
   ]
  },
  {
   "cell_type": "code",
   "execution_count": 41,
   "metadata": {},
   "outputs": [
    {
     "name": "stdout",
     "output_type": "stream",
     "text": [
      "Unpenalized Linear Regression Coefficients are:[ 0.02874412  0.01359026  0.06182182  0.01182297  0.02499891  0.14319331\n",
      " -0.11694133  0.10987652  0.09470751  0.05128982 -0.00804001  0.04509575\n",
      "  0.22231914 -0.21271703  0.26241769  0.08846445  0.08495105  0.05642926\n",
      "  0.05492838  0.05205763  0.1017169   0.03879234  0.10568944  0.30493357\n",
      " -0.09395279  0.14733573  0.11603995  0.00361892  0.09335483  0.12536261\n",
      "  0.14082453  0.0117247  -0.03552579 -0.00891833  0.12978694 -0.17211099\n",
      "  0.00056512 -0.02181812 -0.04180334 -0.54460726  0.33406611  0.05882073\n",
      "  0.03519287  0.21870405 -0.10088168 -0.14040162  0.15526236  0.18933694\n",
      " -0.15194006  0.02509935  0.08124056  0.07229072  0.22602116  0.19121346\n",
      "  0.42306764 -0.05059571  0.26844091 -0.07161619 -0.23224357  0.09655544\n",
      "  0.01643133  0.3699395   0.03624904  0.10435441  0.2521937   0.31590657\n",
      "  0.31670646 -0.00503303  0.28913023 -0.21288783  0.03174523  0.16749711\n",
      "  0.46480709  0.32449115  0.00272314  0.22360374  0.27043877  0.11366315\n",
      "  0.33488231 -0.05325741  0.08137959  0.03036706 -0.14432705 -0.25109611\n",
      " -0.14199736  0.16707454  0.24688632 -0.13888777  0.08871233  0.07885868\n",
      " -0.30070371  0.33465397  0.10091363]\n",
      "6.613071358600479\n",
      "Unpenalized Linear Regression Intercept:-46.965573707280655\n"
     ]
    }
   ],
   "source": [
    "print(\"Unpenalized Linear Regression Coefficients are:{}\".format(lin.coef_))\n",
    "print(abs(lin.coef_.sum()))\n",
    "print(\"Unpenalized Linear Regression Intercept:{}\".format(lin.intercept_))"
   ]
  },
  {
   "cell_type": "code",
   "execution_count": 42,
   "metadata": {},
   "outputs": [
    {
     "name": "stdout",
     "output_type": "stream",
     "text": [
      "Lasso Regression Coefficients are:[ 0.         -0.          0.         -0.         -0.          0.\n",
      " -0.          0.          0.          0.         -0.          0.\n",
      "  0.         -0.          0.          0.          0.         -0.\n",
      " -0.         -0.          0.         -0.          0.          0.\n",
      " -0.          0.          0.          0.          0.          0.\n",
      "  0.          0.         -0.          0.          0.         -0.\n",
      "  0.         -0.         -0.         -0.          0.          0.\n",
      "  0.          0.         -0.         -0.          0.          0.\n",
      " -0.         -0.          0.          0.          0.          0.\n",
      "  0.          0.          0.         -0.         -0.          0.\n",
      "  0.          0.          0.          0.          0.          0.\n",
      "  0.         -0.          0.         -0.          0.          0.\n",
      "  0.          0.          0.          0.          0.          0.\n",
      "  0.          0.          0.         -0.         -0.         -0.\n",
      " -0.          0.          0.         -0.          0.         -0.\n",
      " -0.          0.          0.02897921]\n",
      "0.02897920757646563\n",
      "Lasso Linear Regression Intercept:11.08567889421098\n"
     ]
    }
   ],
   "source": [
    "print(\"Lasso Regression Coefficients are:{}\".format(lasso_01.coef_))\n",
    "print(abs(lasso_01.coef_.sum()))\n",
    "print(\"Lasso Linear Regression Intercept:{}\".format(lasso_01.intercept_))"
   ]
  },
  {
   "cell_type": "code",
   "execution_count": 43,
   "metadata": {},
   "outputs": [
    {
     "name": "stdout",
     "output_type": "stream",
     "text": [
      "Ridge Regression Coefficients are:[ 2.87441475e-02  1.35909406e-02  6.18242586e-02  1.18238230e-02\n",
      "  2.49693283e-02  1.43013681e-01 -1.16959461e-01  1.09801458e-01\n",
      "  9.46417878e-02  5.12426028e-02 -8.06466982e-03  4.50538498e-02\n",
      "  2.22229617e-01 -2.12660905e-01  2.62370933e-01  8.81330193e-02\n",
      "  8.49099130e-02  5.64028378e-02  5.49014171e-02  5.20308253e-02\n",
      "  1.01689082e-01  3.87645697e-02  1.05661277e-01  3.04543528e-01\n",
      " -9.39740747e-02  1.47229206e-01  1.15914978e-01  3.59134608e-03\n",
      "  9.33265358e-02  1.25322509e-01  1.40784265e-01  1.17000713e-02\n",
      " -3.55524144e-02 -8.94448504e-03  1.29749699e-01 -1.72132287e-01\n",
      "  5.40065114e-04 -2.18438328e-02 -4.18288491e-02 -5.44633406e-01\n",
      "  3.34039294e-01  5.87948845e-02  3.51665626e-02  2.18673814e-01\n",
      " -1.00907003e-01 -1.40356798e-01  1.55226748e-01  1.89307652e-01\n",
      " -1.51964343e-01  2.50732537e-02  8.12119142e-02  7.22621400e-02\n",
      "  2.25966153e-01  1.90625197e-01  4.23015488e-01 -5.06202907e-02\n",
      "  2.68369432e-01 -7.16421975e-02 -2.32268954e-01  9.65033117e-02\n",
      "  1.64017204e-02  3.69618739e-01  3.62069930e-02  1.04326024e-01\n",
      "  2.52092889e-01  3.15305800e-01  3.16297753e-01 -5.05792239e-03\n",
      "  2.88514851e-01 -2.12912734e-01  3.17121441e-02  1.67442548e-01\n",
      "  4.64076477e-01  3.24417555e-01  2.69528186e-03  2.23561255e-01\n",
      "  2.70239542e-01  1.13632018e-01  3.34836863e-01 -5.32827023e-02\n",
      "  8.13122208e-02  3.02300653e-02 -1.44046414e-01 -2.50512188e-01\n",
      " -1.41629659e-01  1.66930186e-01  2.46701193e-01 -1.38907036e-01\n",
      "  8.86789227e-02  7.88590143e-02 -3.00704700e-01  3.34654209e-01\n",
      "  1.00913294e-01]\n",
      "6.606987647735868\n",
      "Ridge Linear Regression Intercept:-46.96561220892619\n"
     ]
    }
   ],
   "source": [
    "print(\"Ridge Regression Coefficients are:{}\".format(ridge_01.coef_))\n",
    "print(abs(ridge_01.coef_.sum()))\n",
    "print(\"Ridge Linear Regression Intercept:{}\".format(ridge_01.intercept_))"
   ]
  },
  {
   "cell_type": "code",
   "execution_count": 44,
   "metadata": {},
   "outputs": [],
   "source": [
    "# create predictions\n",
    "y_h_ridge_train = ridge_01.predict(x_train)\n",
    "y_h_ridge_test = ridge_01.predict(x_test)\n",
    "\n",
    "y_h_lasso_train = lasso_01.predict(x_train)\n",
    "y_h_lasso_test = lasso_01.predict(x_test)\n",
    "\n",
    "y_h_lin_train = lin.predict(x_train)\n",
    "y_h_lin_test = lin.predict(x_test)"
   ]
  },
  {
   "cell_type": "code",
   "execution_count": 45,
   "metadata": {},
   "outputs": [
    {
     "name": "stdout",
     "output_type": "stream",
     "text": [
      "Train Error Ridge Model 71567.79091905762\n",
      "Test Error Ridge Model 17982.922994451015\n",
      "\n",
      "\n",
      "Train Error Lasso Model 171583.55578563028\n",
      "Test Error Lasso Model 42927.49091618406\n",
      "\n",
      "\n",
      "Train Error Unpenalized Linear Model 71567.79073072216\n",
      "Test Error Unpenalized Linear Model 17982.923867689704\n"
     ]
    }
   ],
   "source": [
    "# examine the residual sum of sq\n",
    "print('Train Error Ridge Model', np.sum((y_train - y_h_ridge_train)**2))\n",
    "print('Test Error Ridge Model', np.sum((y_test - y_h_ridge_test)**2))\n",
    "print('\\n')\n",
    "\n",
    "print('Train Error Lasso Model', np.sum((y_train - y_h_lasso_train)**2))\n",
    "print('Test Error Lasso Model', np.sum((y_test - y_h_lasso_test)**2))\n",
    "print('\\n')\n",
    "\n",
    "print('Train Error Unpenalized Linear Model', np.sum((y_train - lin.predict(x_train))**2))\n",
    "print('Test Error Unpenalized Linear Model', np.sum((y_test - lin.predict(x_test))**2))"
   ]
  },
  {
   "cell_type": "code",
   "execution_count": 46,
   "metadata": {},
   "outputs": [
    {
     "name": "stdout",
     "output_type": "stream",
     "text": [
      "[0.0658898523210959, 0.06588985159487323]\n"
     ]
    }
   ],
   "source": [
    "# based on residual sum of sq test we will be using the ridge model\n",
    "# now testing best alpha\n",
    "# search for an optimal value of alpha in ridge\n",
    "alphas = [0.001, .01]\n",
    "a_scores = []\n",
    "for a in alphas:\n",
    "    ridge = Ridge(alpha=a)\n",
    "    scores = cross_val_score(ridge, x, y, cv=10, scoring='neg_mean_squared_error')\n",
    "    a_scores.append(-scores.mean())\n",
    "print(a_scores)"
   ]
  },
  {
   "cell_type": "code",
   "execution_count": 47,
   "metadata": {},
   "outputs": [
    {
     "data": {
      "text/plain": [
       "0.0658898523210959"
      ]
     },
     "execution_count": 47,
     "metadata": {},
     "output_type": "execute_result"
    }
   ],
   "source": [
    "max(a_scores)"
   ]
  },
  {
   "cell_type": "code",
   "execution_count": 59,
   "metadata": {},
   "outputs": [
    {
     "data": {
      "text/plain": [
       "Ridge(alpha=0.01, copy_X=True, fit_intercept=True, max_iter=None,\n",
       "      normalize=False, random_state=None, solver='auto', tol=0.001)"
      ]
     },
     "execution_count": 59,
     "metadata": {},
     "output_type": "execute_result"
    }
   ],
   "source": [
    "ridge_001 = Ridge(alpha=0.01)\n",
    "ridge_001.fit(x_train, y_train)"
   ]
  },
  {
   "cell_type": "code",
   "execution_count": 60,
   "metadata": {},
   "outputs": [],
   "source": [
    "y_h_ridge_train = ridge_001.predict(x_train)\n",
    "y_h_ridge_test = ridge_001.predict(x_test)"
   ]
  },
  {
   "cell_type": "code",
   "execution_count": 61,
   "metadata": {},
   "outputs": [
    {
     "name": "stdout",
     "output_type": "stream",
     "text": [
      "Train Error Ridge Model 71567.7907326108\n",
      "Test Error Ridge Model 17982.92377562132\n"
     ]
    }
   ],
   "source": [
    "print('Train Error Ridge Model', np.sum((y_train - y_h_ridge_train)**2))\n",
    "print('Test Error Ridge Model', np.sum((y_test - y_h_ridge_test)**2))"
   ]
  },
  {
   "cell_type": "markdown",
   "metadata": {},
   "source": [
    "## See how our predictions from train test split turned out"
   ]
  },
  {
   "cell_type": "code",
   "execution_count": 51,
   "metadata": {},
   "outputs": [
    {
     "data": {
      "text/plain": [
       "0.6338211332806463"
      ]
     },
     "execution_count": 51,
     "metadata": {},
     "output_type": "execute_result"
    }
   ],
   "source": [
    "# see how many std off we are\n",
    "test_rmse = np.sqrt(metrics.mean_squared_error(y_test, y_h_ridge_test))\n",
    "test_rmse/y_test.std()"
   ]
  },
  {
   "cell_type": "code",
   "execution_count": 144,
   "metadata": {},
   "outputs": [
    {
     "data": {
      "text/plain": [
       "Text(0.5, 1.0, 'How well our Model worked:\\nTrue Values Vs. Predictions')"
      ]
     },
     "execution_count": 144,
     "metadata": {},
     "output_type": "execute_result"
    },
    {
     "data": {
      "image/png": "[encoded data removed]",
      "text/plain": [
       "<Figure size 432x288 with 1 Axes>"
      ]
     },
     "metadata": {
      "needs_background": "light"
     },
     "output_type": "display_data"
    }
   ],
   "source": [
    "## The line / model\n",
    "plt.scatter(y_test, y_h_ridge_test)\n",
    "plt.xlabel(\"True Values\")\n",
    "plt.ylabel(\"Predictions\")\n",
    "plt.title(\"\"\"How well our Model worked:\n",
    "True Values Vs. Predictions\"\"\")\n"
   ]
  },
  {
   "cell_type": "code",
   "execution_count": 64,
   "metadata": {},
   "outputs": [
    {
     "ename": "TypeError",
     "evalue": "lmplot() missing 1 required positional argument: 'data'",
     "output_type": "error",
     "traceback": [
      "\u001b[0;31m---------------------------------------------------------------------------\u001b[0m",
      "\u001b[0;31mTypeError\u001b[0m                                 Traceback (most recent call last)",
      "\u001b[0;32m<ipython-input-64-987e4b01f082>\u001b[0m in \u001b[0;36m<module>\u001b[0;34m\u001b[0m\n\u001b[0;32m----> 1\u001b[0;31m \u001b[0msns\u001b[0m\u001b[0;34m.\u001b[0m\u001b[0mlmplot\u001b[0m\u001b[0;34m(\u001b[0m\u001b[0my_test\u001b[0m\u001b[0;34m,\u001b[0m \u001b[0my_h_ridge_test\u001b[0m\u001b[0;34m,\u001b[0m \u001b[0mlowess\u001b[0m\u001b[0;34m=\u001b[0m\u001b[0;32mTrue\u001b[0m\u001b[0;34m)\u001b[0m\u001b[0;34m\u001b[0m\u001b[0;34m\u001b[0m\u001b[0m\n\u001b[0m",
      "\u001b[0;31mTypeError\u001b[0m: lmplot() missing 1 required positional argument: 'data'"
     ]
    }
   ],
   "source": [
    "sns.lmplot(y_test, y_h_ridge_test, lowess=True)"
   ]
  },
  {
   "cell_type": "code",
   "execution_count": 53,
   "metadata": {},
   "outputs": [
    {
     "data": {
      "text/plain": [
       "((array([-4.56342604, -4.37370233, -4.27081339, ...,  4.27081339,\n",
       "          4.37370233,  4.56342604]),\n",
       "  array([-1.60515722, -1.56686084, -1.35917222, ...,  1.54404898,\n",
       "          1.54762508,  2.10212069])),\n",
       " (0.25217755253708807, 2.4037503775519588e-05, 0.9869655905153999))"
      ]
     },
     "execution_count": 53,
     "metadata": {},
     "output_type": "execute_result"
    },
    {
     "data": {
      "image/png": "[encoded data removed]",
      "text/plain": [
       "<Figure size 576x432 with 1 Axes>"
      ]
     },
     "metadata": {
      "needs_background": "light"
     },
     "output_type": "display_data"
    }
   ],
   "source": [
    "# qqplot\n",
    "pred_val = y_h_ridge_test\n",
    "true_val = y_test\n",
    "residual = true_val - pred_val\n",
    "\n",
    "fig, ax = plt.subplots(figsize=(8,6))\n",
    "sp.stats.probplot(residual, plot=ax, fit=True)"
   ]
  }
 ],
 "metadata": {
  "kernelspec": {
   "display_name": "Python 3",
   "language": "python",
   "name": "python3"
  },
  "language_info": {
   "codemirror_mode": {
    "name": "ipython",
    "version": 3
   },
   "file_extension": ".py",
   "mimetype": "text/x-python",
   "name": "python",
   "nbconvert_exporter": "python",
   "pygments_lexer": "ipython3",
   "version": "3.7.4"
  },
  "toc": {
   "base_numbering": 1,
   "nav_menu": {},
   "number_sections": true,
   "sideBar": true,
   "skip_h1_title": false,
   "title_cell": "Table of Contents",
   "title_sidebar": "Contents",
   "toc_cell": false,
   "toc_position": {},
   "toc_section_display": true,
   "toc_window_display": true
  },
  "varInspector": {
   "cols": {
    "lenName": 16,
    "lenType": 16,
    "lenVar": 40
   },
   "kernels_config": {
    "python": {
     "delete_cmd_postfix": "",
     "delete_cmd_prefix": "del ",
     "library": "var_list.py",
     "varRefreshCmd": "print(var_dic_list())"
    },
    "r": {
     "delete_cmd_postfix": ") ",
     "delete_cmd_prefix": "rm(",
     "library": "var_list.r",
     "varRefreshCmd": "cat(var_dic_list()) "
    }
   },
   "types_to_exclude": [
    "module",
    "function",
    "builtin_function_or_method",
    "instance",
    "_Feature"
   ],
   "window_display": false
  }
 },
 "nbformat": 4,
 "nbformat_minor": 2
}
